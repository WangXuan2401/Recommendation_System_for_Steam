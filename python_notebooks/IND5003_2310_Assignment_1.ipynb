{
 "cells": [
  {
   "cell_type": "markdown",
   "metadata": {},
   "source": [
    "# Instructions\n",
    "\n",
    "1. This assignment is worth 5% of the final grade.\n",
    "2. Insert cells (code or markdown, as appropriate) below each question and fill in your answers there.\n",
    "2. You are required to work on this individually. Any form of plagiarism will result in 0.\n",
    "3. Please submit your notebook file (name it ``IND5003_A1_<Your_Name>.ipynb``) through Canvas before **17th Sep 2023 23:59hrs**."
   ]
  },
  {
   "cell_type": "markdown",
   "metadata": {},
   "source": [
    "# Question 1\n",
    "\n",
    "The file `resale_flat_prices.csv` contains resale flat prices in Singapore from January 2017 onwards. The file `town_type_region.xlsx` contains the classification of each town as *mature* or *non-mature* and each town's geographical region (*north*, *north-east*, *east*, *west*, or *central*). Use these two files to answer the following questions:\n",
    "\n",
    "1. In the period January 2022 to June 2022, was the mean resale price **per square metre per year of remaining lease** of 4 ROOM flats the same for all geographical regions?\n",
    "2. In the period July 2022 to December 2022, was there any difference in the distribution of geographical regions for each resale flat type? (Please **omit** 1 ROOM and MULTI-GENERATION flats from this analysis.)\n",
    "\n",
    "It is up to you to choose the appropriate hypothesis test, and to perform the five steps for each question."
   ]
  },
  {
   "cell_type": "markdown",
   "metadata": {},
   "source": [
    "# Question 2\n",
    "\n",
    "The secretary problem *in its simplest form* has the following features.\n",
    "\n",
    "1. There is one secretarial position available.\n",
    "2. The number $n$ of applicants is known.\n",
    "3. The applicants are interviewed sequentially in random order, each order being equally likely.\n",
    "4. It is assumed that you can rank all the applicants from best to worst without ties. The decision to accept or reject an applicant must be based only on the relative ranks of those applicants interviewed so far.\n",
    "5. An applicant once rejected cannot later be recalled.\n",
    "6. You are very particular and will be satisfied with nothing but the very best.\n",
    "\n",
    "This basic problem has a remarkably simple solution. First, one shows that attention can be restricted to the class of rules that for some integer $r \\ge 1$ rejects the first $r - 1$ applicants, and then chooses the next applicant who is best in the relative ranking of the observed applicants. For such a rule, the probability, $p_n(r)$, of selecting the best applicant is $1/n$ for $r = 1$, and for $r > 1$,\n",
    "\\begin{equation}\n",
    "  p_n(r) = \\frac{r - 1}{n} \\sum_{i=r}^n \\frac{1}{i - 1}.\n",
    "\\end{equation}\n",
    "The optimal $r$ is the one that maximises this probability. For small values of $n$, the optimal $r$ can easily be computed. For example, when $n = 11$, the function $p_n(r)$ takes on its maximum value when $r = 5$.\n",
    "\n",
    "When $n = 11$ and using the optimal solution outlined above, use **simulation** to answer the following questions:\n",
    "\n",
    "1. What is the probability that you **could not find an acceptable applicant?**\n",
    "2. How many applicants do you expect to interview **by the time you accept an applicant?**"
   ]
  }
 ],
 "metadata": {
  "kernelspec": {
   "display_name": "Python 3 (ipykernel)",
   "language": "python",
   "name": "python3"
  },
  "language_info": {
   "codemirror_mode": {
    "name": "ipython",
    "version": 3
   },
   "file_extension": ".py",
   "mimetype": "text/x-python",
   "name": "python",
   "nbconvert_exporter": "python",
   "pygments_lexer": "ipython3",
   "version": "3.11.4"
  }
 },
 "nbformat": 4,
 "nbformat_minor": 4
}
