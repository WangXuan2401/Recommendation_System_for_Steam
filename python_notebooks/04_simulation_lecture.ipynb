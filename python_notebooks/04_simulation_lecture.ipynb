{
 "cells": [
  {
   "cell_type": "markdown",
   "metadata": {},
   "source": [
    "# Contents <a id='top'></a>\n",
    "\n",
    "1. <a href=#rv>Random Variables</a>\n",
    "    1. <a href=#randomtext>Generating Random Text</a>\n",
    "1. <a href=#des>Discrete Event Simulations</a>\n",
    "    1. <a href=#des>Sandwich Shop</a>\n",
    "    1. <a href=#simpy>About SimPy</a>\n",
    "    1. <a href=#rc>Reneging Customers</a>\n",
    "1. <a href=#ref>References and Links</a>"
   ]
  },
  {
   "cell_type": "code",
   "execution_count": null,
   "metadata": {},
   "outputs": [],
   "source": [
    "import simpy\n",
    "import numpy as np\n",
    "import pandas as pd\n",
    "\n",
    "import matplotlib.pyplot as plt\n",
    "from numpy.random import default_rng\n",
    "from scipy.stats import binom, bernoulli, norm, expon, uniform\n",
    "\n",
    "import myscripts.simulation as ds\n",
    "\n",
    "%matplotlib inline"
   ]
  },
  {
   "cell_type": "markdown",
   "metadata": {},
   "source": [
    "<a id='rv'></a>\n",
    "# 1. Random Variables\n",
    "<a href=#top>(back to top)</a>\n",
    "\n",
    "In statistics, we use random variables to describe the probabilistic behaviour of phenomenon. Random variables are real numbers that represent the phenomena we observe. For instance, we might let $X$ represent a coin toss, with $X=1$ representing Heads and $X=0$ representing Tails.\n",
    "\n",
    "Random variables come with a rule (or function) that prescribes the probabilities with which it takes on particular values. For instance, if we had a fair coin, then the rule would be that \n",
    "$$\n",
    "P(X=1) = P(X=0) = \\frac{1}{2}\n",
    "$$\n",
    "\n",
    "On the other hand, a biased coin might follow the rule\n",
    "$$\n",
    "P(X=1) = \\frac{2}{3},\\quad P(X=0) = \\frac{1}{3}\n",
    "$$\n",
    "\n",
    "This rule tells us which events are more likely, and which are less likely."
   ]
  },
  {
   "cell_type": "markdown",
   "metadata": {},
   "source": [
    "### Discrete vs. Continuous Random Variables.\n",
    "\n",
    "Discrete random variables take on only a countable number of values. Examples are:\n",
    "* A coin toss ($\\{0, 1\\}$)\n",
    "* The number of taxis passing by a particular junction between 12noon and 1pm. ($\\{0, 1, 2, \\ldots\\}$)\n",
    "* The number of coin tosses until we observe Heads. ($\\{1, 2, 3, \\ldots\\}$)\n",
    "\n",
    "Discrete random variables are defined by their probability mass function (pmf), which is just a table or a function describing $P(X=i)$ for all possible $i$ values. Once we know the pmf of a random variable, we know everything about it - the mean, variance, quantiles, maximum values, etc.\n",
    "\n",
    "We can visualise a pmf using a bar-chart. Here is the pmf for the above biased coin."
   ]
  },
  {
   "cell_type": "code",
   "execution_count": null,
   "metadata": {},
   "outputs": [],
   "source": [
    "plt.bar([0,1], [1/3, 2/3], tick_label=['0', '1'], width=0.3);\n",
    "plt.xlim(-1,2); plt.ylim(0,1); plt.title('pmf of \\'X\\' random variable' );"
   ]
  },
  {
   "cell_type": "markdown",
   "metadata": {},
   "source": [
    "Here is the pmf for a random variable representing the total number of Heads after 10 tosses of that same coin. Suppose we call that new random variable $Y$."
   ]
  },
  {
   "cell_type": "code",
   "execution_count": null,
   "metadata": {},
   "outputs": [],
   "source": [
    "probs = binom.pmf(np.arange(0, 11), n=10, p=2/3)\n",
    "plt.bar(np.arange(0, 11), probs);plt.ylim(0,0.3); plt.title('pmf of no. of coin tosses');"
   ]
  },
  {
   "cell_type": "markdown",
   "metadata": {},
   "source": [
    "If we wish to find the probability of events, for instance, $P(Y \\le 4)$, we sum up the heights of the bars."
   ]
  },
  {
   "cell_type": "markdown",
   "metadata": {},
   "source": [
    "Continuous random variables are defined by what is known as a probability density function (pdf). Continuous random variables can take on an uncountable number of values, for instance, all real numbers in the interval $[0,1]$."
   ]
  },
  {
   "cell_type": "code",
   "execution_count": null,
   "metadata": {
    "tags": []
   },
   "outputs": [],
   "source": [
    "x = np.linspace(-3, 3, num=100)\n",
    "y = norm.pdf(x)\n",
    "plt.figure(figsize=(12,4), facecolor='0.9')\n",
    "plt.subplot(131)\n",
    "plt.plot(x,y)\n",
    "plt.ylim(0,1)\n",
    "plt.title('Normal pdf');\n",
    "\n",
    "y = expon.pdf(x[x>0])\n",
    "plt.subplot(132)\n",
    "plt.plot(x[x>0],y)\n",
    "plt.ylim(0,1)\n",
    "plt.title('Exponential pdf');\n",
    "\n",
    "x = np.linspace(0, 1, num=100)\n",
    "y = uniform.pdf(x)\n",
    "plt.subplot(133)\n",
    "plt.plot(x,y)\n",
    "plt.ylim(0,1.1)\n",
    "plt.title('Uniform pdf');"
   ]
  },
  {
   "cell_type": "markdown",
   "metadata": {},
   "source": [
    "### Generating Random Variates\n",
    "\n",
    "With a computer, we can generate random variables from almost any distribution. There are built-in routines to generate from the 'named' distributions. For instance,"
   ]
  },
  {
   "cell_type": "code",
   "execution_count": null,
   "metadata": {},
   "outputs": [],
   "source": [
    "rng = default_rng(5003)"
   ]
  },
  {
   "cell_type": "code",
   "execution_count": null,
   "metadata": {
    "tags": []
   },
   "outputs": [],
   "source": [
    "yvals = np.zeros((3,300))\n",
    "yvals[0,:] = rng.normal(size=300)\n",
    "yvals[1,:] = rng.exponential(size=300)\n",
    "yvals[2, :] = rng.uniform(size=300)\n",
    "pdfs = ['Normal', 'Exponential', 'Uniform']\n",
    "plt.figure(figsize=(12,4), facecolor='0.9')\n",
    "\n",
    "for i in np.arange(0,3):\n",
    "    plt.subplot(1, 3, i+1)\n",
    "    plt.hist(yvals[i,:], density=True, histtype='step')\n",
    "    plt.title(pdfs[i])\n",
    "    plt.ylim(0, 1.05)"
   ]
  },
  {
   "cell_type": "markdown",
   "metadata": {},
   "source": [
    "Notice how the (normalised) histograms look a lot like the corresponding pdfs."
   ]
  },
  {
   "cell_type": "markdown",
   "metadata": {},
   "source": [
    "We can even generate values from our own custom distributions. For instance, suppose that we wish to simulate from the following pmf:\n",
    "\n",
    "$$\n",
    "P(X=-1) = \\frac{1}{2},\\quad P(X = 0) = \\frac{1}{3}, \\quad P(X=1) = \\frac{1}{6}\n",
    "$$"
   ]
  },
  {
   "cell_type": "code",
   "execution_count": null,
   "metadata": {},
   "outputs": [],
   "source": [
    "sim_x = rng.choice(np.array([-1,0,1]), size=1000, replace=True, p=np.array([1/2, 1/3, 1/6]))"
   ]
  },
  {
   "cell_type": "code",
   "execution_count": null,
   "metadata": {},
   "outputs": [],
   "source": [
    "pd.Series(sim_x).value_counts(normalize=True)"
   ]
  },
  {
   "cell_type": "markdown",
   "metadata": {},
   "source": [
    "If we normalize these counts, the values would resemble the pmf from which they arose. \n",
    "\n",
    "The point of simulations is that they can (almost) yield the pmf/pdf of a random variable that we do not know in a \n",
    "complicated process. Then we can extract things like means, variances from it. Or we can use it in other ways."
   ]
  },
  {
   "cell_type": "markdown",
   "metadata": {},
   "source": [
    "<a id='randomtext'></a>\n",
    "# Generating Random Text\n",
    "\n",
    "Here is an example of how we can simulate from distributions to generate random (nonsensical) sentences that are \"similar\" to actual sentences from a text.\n",
    "\n",
    "The example uses some ideas from Natural Language Processing which we shall encounter later in the class. First, we install the `nltk` package - the natural language toolkit, and download the books that it uses in examples."
   ]
  },
  {
   "cell_type": "code",
   "execution_count": null,
   "metadata": {},
   "outputs": [],
   "source": [
    "# !pip install nltk\n",
    "import nltk"
   ]
  },
  {
   "cell_type": "markdown",
   "metadata": {},
   "source": [
    "Next, either you run this:"
   ]
  },
  {
   "cell_type": "code",
   "execution_count": null,
   "metadata": {},
   "outputs": [],
   "source": [
    "# nltk.download('genesis')\n",
    "kjv = nltk.corpus.genesis.words('english-kjv.txt')"
   ]
  },
  {
   "cell_type": "markdown",
   "metadata": {},
   "source": [
    "Or this:"
   ]
  },
  {
   "cell_type": "code",
   "execution_count": null,
   "metadata": {},
   "outputs": [],
   "source": [
    "# nltk.download('punkt')\n",
    "from nltk import word_tokenize\n",
    "\n",
    "with open('../data/english-kjv.txt') as f:\n",
    "    out = f.read()\n",
    "\n",
    "kjv = word_tokenize(out)"
   ]
  },
  {
   "cell_type": "markdown",
   "metadata": {
    "tags": []
   },
   "source": [
    "The object `kjv` contains all the words and punctuations from the King James Bible. Here are the first 20 words:"
   ]
  },
  {
   "cell_type": "code",
   "execution_count": null,
   "metadata": {},
   "outputs": [],
   "source": [
    "' '.join(kjv[:20])"
   ]
  },
  {
   "cell_type": "code",
   "execution_count": null,
   "metadata": {},
   "outputs": [],
   "source": [
    "rng.choice(kjv, size=20)"
   ]
  },
  {
   "cell_type": "markdown",
   "metadata": {},
   "source": [
    "Next, we extract all bigrams and create a dictionary of frequency distributions. Each frequency distribution tabulates the occurences of the *next* word."
   ]
  },
  {
   "cell_type": "code",
   "execution_count": null,
   "metadata": {},
   "outputs": [],
   "source": [
    "bg = nltk.bigrams(kjv)\n",
    "cfd = nltk.ConditionalFreqDist(bg)"
   ]
  },
  {
   "cell_type": "markdown",
   "metadata": {},
   "source": [
    "Suppose we are interested in what words/tokens come after the word 'And' in the bible:"
   ]
  },
  {
   "cell_type": "code",
   "execution_count": null,
   "metadata": {
    "tags": []
   },
   "outputs": [],
   "source": [
    "cfd['And']"
   ]
  },
  {
   "cell_type": "markdown",
   "metadata": {},
   "source": [
    "Thus 'he' is the most likely word after 'And'. The second most likely pairing would be 'And the', and so on."
   ]
  },
  {
   "cell_type": "code",
   "execution_count": null,
   "metadata": {},
   "outputs": [],
   "source": [
    "cfd['And'].keys()"
   ]
  },
  {
   "cell_type": "code",
   "execution_count": null,
   "metadata": {},
   "outputs": [],
   "source": [
    "cfd['And'].values()"
   ]
  },
  {
   "cell_type": "markdown",
   "metadata": {},
   "source": [
    "We can convert this into a pmf, just by normalising to ensure that it sums to 1. Then we are ready to generate a pairing once we know that the first word is 'And'. With the second word, we turn to its frequency distribution and simulate the third word, and so on."
   ]
  },
  {
   "cell_type": "code",
   "execution_count": null,
   "metadata": {},
   "outputs": [],
   "source": [
    "ds.generate_model(cfd, 'And', 20)"
   ]
  },
  {
   "cell_type": "markdown",
   "metadata": {},
   "source": [
    "<a id='des'></a>\n",
    "# 2. Discrete Event Simulations\n",
    "<a href=#top>(back to top)</a>\n",
    "\n",
    "One of the most practical uses of simulation is in Discrete Event Simulations or DES. These are representations of real world. They can be very simple, or they can be ultra complex. They are useful in generating observations in order to study a phenomena, or to perform scenario planning.\n",
    "\n",
    "Let's study one such latter application and, in the process, learn about a powerful Python Package for DES. It is known as `SimPy`.\n",
    "\n",
    "## Sandwich Shop\n",
    "\n",
    "Suppose we operate 'Shirley's Sandwich Shop'. It is a simple kiosk, with one counter serving customers. We receive feedback on social media that the queue is too long during the peak 3 hours from 11am to 2pm. Many customers are being turned away. We would like to investigate ways in which we can solve this issue.\n",
    "\n",
    "This simplified process has been coded into the IND5003 simulation module. Let's take a look at how it runs first. First, we initialise a dictionary to store the output variables: arrival times, waiting times and service times. Next, we initialise an environment to run the process in. Finally, we create the single \"service counter\" within the environment. "
   ]
  },
  {
   "cell_type": "code",
   "execution_count": null,
   "metadata": {},
   "outputs": [],
   "source": [
    "cdict = {}\n",
    "env = simpy.Environment()\n",
    "counter = simpy.Resource(env, capacity=1)"
   ]
  },
  {
   "cell_type": "code",
   "execution_count": null,
   "metadata": {},
   "outputs": [],
   "source": [
    "env.process(ds.s1(env, 2, counter, 1.0, cdict, True))"
   ]
  },
  {
   "cell_type": "code",
   "execution_count": null,
   "metadata": {
    "tags": []
   },
   "outputs": [],
   "source": [
    "env.run(until=180)  # until=15, 30, ..., 180"
   ]
  },
  {
   "cell_type": "code",
   "execution_count": null,
   "metadata": {
    "tags": []
   },
   "outputs": [],
   "source": [
    "cdict"
   ]
  },
  {
   "cell_type": "markdown",
   "metadata": {},
   "source": [
    "We can convert the output into a dataframe to study it further."
   ]
  },
  {
   "cell_type": "code",
   "execution_count": null,
   "metadata": {},
   "outputs": [],
   "source": [
    "cdf = pd.DataFrame.from_dict(cdict, orient='index')\n",
    "cdf.columns = ['arr', 'wait', 'serv']"
   ]
  },
  {
   "cell_type": "code",
   "execution_count": null,
   "metadata": {},
   "outputs": [],
   "source": [
    "cdf"
   ]
  },
  {
   "cell_type": "code",
   "execution_count": null,
   "metadata": {},
   "outputs": [],
   "source": [
    "plt.figure(figsize=(12,6))\n",
    "plt.hlines(np.concatenate((np.arange(cdf.shape[0]) + 1, np.arange(cdf.shape[0]) + 1)), \n",
    "           np.concatenate((cdf.arr, cdf.arr + cdf.wait)), \n",
    "           np.concatenate((cdf.arr + cdf.wait, cdf.arr + cdf.wait + cdf.serv)), colors=['r']*cdf.shape[0] + ['b']*cdf.shape[0]);\n",
    "plt.title('Customer arrival, service and departure over time');\n",
    "plt.xlabel('Time in minutes past 11');"
   ]
  },
  {
   "cell_type": "code",
   "execution_count": null,
   "metadata": {},
   "outputs": [],
   "source": [
    "cdf.describe()"
   ]
  },
  {
   "cell_type": "code",
   "execution_count": null,
   "metadata": {},
   "outputs": [],
   "source": [
    "np.sum(cdf.wait.isna())"
   ]
  },
  {
   "cell_type": "code",
   "execution_count": null,
   "metadata": {},
   "outputs": [],
   "source": [
    "cdf.info()\n",
    "#cdf.dropna().wait.describe()"
   ]
  },
  {
   "cell_type": "markdown",
   "metadata": {},
   "source": [
    "Let us carry out this simulation 100 times to understand:\n",
    "1. The median wait-time for customers who were eventually served.\n",
    "2. The number of customers who did not get served."
   ]
  },
  {
   "cell_type": "code",
   "execution_count": null,
   "metadata": {},
   "outputs": [],
   "source": [
    "mwt = []\n",
    "unserved = []\n",
    "\n",
    "for ii in np.arange(0, 100):\n",
    "    cdict = {}\n",
    "    env = simpy.Environment()\n",
    "    counter = simpy.Resource(env, capacity=1)\n",
    "    env.process(ds.s1(env, 2, counter, 1.0, cdict, False))\n",
    "    env.run(until=180)\n",
    "    \n",
    "    cdf = pd.DataFrame.from_dict(cdict, orient='index')\n",
    "    cdf.columns = ['arr', 'wait', 'serv']\n",
    "    \n",
    "    unserved.append(np.sum(cdf.wait.isna()))\n",
    "    mwt.append(cdf.dropna().wait.median())\n",
    "    "
   ]
  },
  {
   "cell_type": "code",
   "execution_count": null,
   "metadata": {},
   "outputs": [],
   "source": [
    "pd.DataFrame({'mwt':mwt, 'unserved':unserved}).describe()"
   ]
  },
  {
   "cell_type": "code",
   "execution_count": null,
   "metadata": {},
   "outputs": [],
   "source": [
    "pd.DataFrame({'mwt':mwt, 'unserved':unserved}).unserved.plot(kind='hist');"
   ]
  },
  {
   "cell_type": "markdown",
   "metadata": {},
   "source": [
    "<a id='simpy'></a>\n",
    "## About SimPy\n",
    "\n",
    "SimPy is a DES software/framework in Python. In it, the behaviour of active components such as customers is modelled as a process. Processes can interact with one another, and can start process of their own. All processes live in an environment, and they react and trigger events.\n",
    "\n",
    "Processes are written as generator functions. They contain a `yield` statement that can suspend the execution of a function while waiting for an event to complete."
   ]
  },
  {
   "cell_type": "code",
   "execution_count": null,
   "metadata": {},
   "outputs": [],
   "source": [
    "def gen_x():\n",
    "    x = ['Hello', 'who', 'are', 'you']\n",
    "    for ii in x:\n",
    "        yield ii  # change yield to return and see what happens"
   ]
  },
  {
   "cell_type": "code",
   "execution_count": null,
   "metadata": {},
   "outputs": [],
   "source": [
    "gg = gen_x()"
   ]
  },
  {
   "cell_type": "markdown",
   "metadata": {},
   "source": [
    "gg is now a generator object. It will run until the `yield` statement, at which point it returns `ii`, and suspend all variables, every time you call `next` on it."
   ]
  },
  {
   "cell_type": "code",
   "execution_count": null,
   "metadata": {},
   "outputs": [],
   "source": [
    "next(gg)"
   ]
  },
  {
   "cell_type": "code",
   "execution_count": null,
   "metadata": {},
   "outputs": [],
   "source": [
    "def gen_inf_x():\n",
    "    ii = 0\n",
    "    while True:\n",
    "        ii += 1\n",
    "        yield ii"
   ]
  },
  {
   "cell_type": "code",
   "execution_count": null,
   "metadata": {},
   "outputs": [],
   "source": [
    "gg2 = gen_inf_x()"
   ]
  },
  {
   "cell_type": "code",
   "execution_count": null,
   "metadata": {},
   "outputs": [],
   "source": [
    "next(gg2)"
   ]
  },
  {
   "cell_type": "markdown",
   "metadata": {},
   "source": [
    " Here's a little more detail on [generators](https://www.oreilly.com/content/2-great-benefits-of-python-generators-and-how-they-changed-me-forever/)."
   ]
  },
  {
   "cell_type": "markdown",
   "metadata": {},
   "source": [
    "In SimPy, processes have to be written as generator function. Here is a simple process &mdash; a car alternating between driving and parking."
   ]
  },
  {
   "cell_type": "code",
   "execution_count": null,
   "metadata": {},
   "outputs": [],
   "source": [
    "def car(env):\n",
    "    while True:\n",
    "        print(f'Start parking at {env.now}')\n",
    "        yield env.timeout(5)\n",
    "        \n",
    "        print(f'Start driving at {env.now}')\n",
    "        yield env.timeout(2)"
   ]
  },
  {
   "cell_type": "code",
   "execution_count": null,
   "metadata": {},
   "outputs": [],
   "source": [
    "cc = car(env)"
   ]
  },
  {
   "cell_type": "code",
   "execution_count": null,
   "metadata": {},
   "outputs": [],
   "source": [
    "env = simpy.Environment()\n",
    "env.process(car(env))"
   ]
  },
  {
   "cell_type": "markdown",
   "metadata": {},
   "source": [
    "So far, we have defined a car process, created the generator object and attached it to the environment. Now we run it for 15 units of time."
   ]
  },
  {
   "cell_type": "code",
   "execution_count": null,
   "metadata": {
    "tags": []
   },
   "outputs": [],
   "source": [
    "env.run(until=15)"
   ]
  },
  {
   "cell_type": "markdown",
   "metadata": {},
   "source": [
    "Processes are too simplistic if they do not interact. One way of interacting is to compete for a shared resource. In Shirley's Sandwich Shop, the customers are competing for a counter service.\n",
    "\n",
    "The first process in that first configuration is the source process (see the function s1). This is the fountain of customers. A customer process (function c1) is created and attached to the environment at random time intervals. The intervals follow an exponential distribution.\n",
    "\n",
    "Each customer, upon arrival, tries to get service. If there is a queue already there, he/she has to join the queue and wait. Once the customer is at the head of the queue, it takes a random amount of time for him to finish his job. The random amount of time is 1.5 + an Exponential random variable with mean 1. "
   ]
  },
  {
   "cell_type": "markdown",
   "metadata": {},
   "source": [
    "<a id='rc'></a>\n",
    "## Reneging Customers\n",
    "\n",
    "Now let us add another slight complication. We are going to assume that customers are not as patient as we hoped they would be. If they have been waiting in line too long, they are liable to leave the shop out of frustration. We assume that their \"patience\" is a uniform random variable between 0.5 and 4.0 minutes. Finally, to gain some indication of how much business is being lost, we represent the amount of money a customer was willing to spend when he walked into the store as a gamma random variable. Finally, we monitor the queue-length every time a customer arrives in as well."
   ]
  },
  {
   "cell_type": "code",
   "execution_count": null,
   "metadata": {
    "tags": []
   },
   "outputs": [],
   "source": [
    "cdict = {}\n",
    "env = simpy.Environment()\n",
    "counter = simpy.Resource(env, capacity=1)\n",
    "\n",
    "env.process(ds.s2(env, 2, counter, 1.0, cdict, True))\n",
    "env.run(until=180)  # until=15"
   ]
  },
  {
   "cell_type": "markdown",
   "metadata": {},
   "source": [
    "Let us construct a data frame to study the output for this run."
   ]
  },
  {
   "cell_type": "code",
   "execution_count": null,
   "metadata": {},
   "outputs": [],
   "source": [
    "cdf = pd.DataFrame.from_dict(cdict, orient='index')\n",
    "cdf.columns = ['arr', 'wait', 'serv', 'ren', 'amt_spent', 'qlen']\n",
    "cdf"
   ]
  },
  {
   "cell_type": "code",
   "execution_count": null,
   "metadata": {},
   "outputs": [],
   "source": [
    "plt.figure(figsize=(12,6))\n",
    "plt.hlines(np.concatenate((np.arange(cdf.shape[0]) + 1, np.arange(cdf.shape[0]) + 1)), \n",
    "           np.concatenate((cdf.arr, cdf.arr + cdf.wait)), \n",
    "           np.concatenate((cdf.arr + cdf.wait, cdf.arr + cdf.wait + cdf.serv)), colors=['r']*cdf.shape[0] + ['b']*cdf.shape[0]);\n",
    "plt.title('Customer arrival, service (or renege) and departure over time');\n",
    "plt.xlabel('Time in minutes past 11');"
   ]
  },
  {
   "cell_type": "code",
   "execution_count": null,
   "metadata": {},
   "outputs": [],
   "source": [
    "cdf.describe()"
   ]
  },
  {
   "cell_type": "code",
   "execution_count": null,
   "metadata": {},
   "outputs": [],
   "source": [
    "amt = cdf[cdf.ren == 1].amt_spent.sum()\n",
    "print(f'Num of reneged customers: {int(cdf.ren.sum())}')\n",
    "print(f'Amt. potentially earned : ${amt:5.2f}')"
   ]
  },
  {
   "cell_type": "markdown",
   "metadata": {},
   "source": [
    "Here is a plot of how queue length varied during the lunch period."
   ]
  },
  {
   "cell_type": "code",
   "execution_count": null,
   "metadata": {
    "tags": []
   },
   "outputs": [],
   "source": [
    "plt.figure(figsize=(12,4))\n",
    "plt.step(np.arange(cdf.shape[0]), cdf.qlen); plt.title('Queue length variation over time');\n",
    "plt.xlabel('Customer arrival count');"
   ]
  },
  {
   "cell_type": "markdown",
   "metadata": {},
   "source": [
    "Let us perform a simulation once more, for 100 iterations"
   ]
  },
  {
   "cell_type": "code",
   "execution_count": null,
   "metadata": {},
   "outputs": [],
   "source": [
    "amt = []\n",
    "reneged = []\n",
    "served = []\n",
    "\n",
    "for ii in np.arange(0, 100):\n",
    "    cdict = {}\n",
    "    env = simpy.Environment()\n",
    "    counter = simpy.Resource(env, capacity=1)\n",
    "    env.process(ds.s2(env, 2, counter, 1.0, cdict, False))\n",
    "    env.run(until=180)\n",
    "    \n",
    "    cdf = pd.DataFrame.from_dict(cdict, orient='index')\n",
    "    cdf.columns = ['arr', 'wait', 'serv', 'ren', 'amt_spent', 'qlen']\n",
    "    \n",
    "    amt_here = cdf[cdf.ren == 1].amt_spent.sum()\n",
    "    reneged.append(cdf.ren.sum())\n",
    "    amt.append(amt_here)\n",
    "    served.append(np.sum(-cdf.serv.isna()))"
   ]
  },
  {
   "cell_type": "code",
   "execution_count": null,
   "metadata": {
    "tags": []
   },
   "outputs": [],
   "source": [
    "pd.DataFrame({'amt':amt, 'reneged':reneged, 'served':served}).describe()"
   ]
  },
  {
   "cell_type": "markdown",
   "metadata": {},
   "source": [
    "Simulation output is typically used to compute the mean of a process. For instance, we can use the arithmetic mean above to estimate the mean amount of dollars lost, the mean number of customers who reneged, and the mean number of customers served. We can use the sample variance to compute confidence intervals if we wish too. "
   ]
  },
  {
   "cell_type": "markdown",
   "metadata": {},
   "source": [
    "Suppose the sandwich shop now wishes to answer two questions:\n",
    "1. If the shop wishes to serve an average of 70 customers per day, by how much should it extend lunch time?\n",
    "2. If the shop can reduce its service time by 20%, how many more customers can it serve each day?\n",
    "\n",
    "If you make changes to functions in a module (e.g., `simulation.py`), you can use the following code to reload the module:"
   ]
  },
  {
   "cell_type": "code",
   "execution_count": null,
   "metadata": {},
   "outputs": [],
   "source": [
    "import importlib\n",
    "importlib.reload(ds)"
   ]
  },
  {
   "cell_type": "markdown",
   "metadata": {},
   "source": [
    "## Simulation-Based Modeling\n",
    "\n",
    "In simulation-based modeling, we have several things to consider. \n",
    "\n",
    "1. What input distributions should I use?\n",
    "2. How complicated does my simulation need to be?\n",
    "3. How do I know it is giving the right results?\n",
    "4. How many simulations should I run?"
   ]
  },
  {
   "cell_type": "markdown",
   "metadata": {},
   "source": [
    "Here are some general guidelines to begin with your simulation model:\n",
    "\n",
    "1. Start simple.\n",
    "2. Use your own data to decide what distributions should be used.\n",
    "3. Try with different distributions to see how sensitive your results are to those choices.\n",
    "4. Add more and more realistic layers to our simulation as you proceed.\n",
    "5. Remember that simulation is used in estimating mean values. You will be able to estimate standard deviations around your estimate too."
   ]
  },
  {
   "cell_type": "markdown",
   "metadata": {},
   "source": [
    "<a id='ref'></a>\n",
    "# 3. References\n",
    "<a href=#top>(back to top)</a>\n",
    "\n",
    "1. [Simulation](https://www.amazon.com/Simulation-Sheldon-M-Ross/dp/0124158250) by Sheldon Ross is very useful for learning about simulation techniques and concepts. It is available online from our [NUS library](https://linc.nus.edu.sg/record=b3254096).\n",
    "2. [SimPy](https://simpy.readthedocs.io/en/latest/) documentation. The examples section contains several useful examples that you can customise for your particular case to begin with.\n",
    "3. [Generators](https://docs.python.org/3/howto/functional.html?highlight=generator#generators) straight from the horse's mouth.\n",
    "3. More about [generators](https://www.oreilly.com/content/2-great-benefits-of-python-generators-and-how-they-changed-me-forever/)."
   ]
  }
 ],
 "metadata": {
  "kernelspec": {
   "display_name": "Python 3 (ipykernel)",
   "language": "python",
   "name": "python3"
  },
  "language_info": {
   "codemirror_mode": {
    "name": "ipython",
    "version": 3
   },
   "file_extension": ".py",
   "mimetype": "text/x-python",
   "name": "python",
   "nbconvert_exporter": "python",
   "pygments_lexer": "ipython3",
   "version": "3.11.4"
  }
 },
 "nbformat": 4,
 "nbformat_minor": 4
}
