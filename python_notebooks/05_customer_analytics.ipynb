{
 "cells": [
  {
   "cell_type": "markdown",
   "metadata": {},
   "source": [
    "# Contents <a id='top'></a>\n",
    "\n",
    "1. <a href=#exploration>CDNOW Dataset</a>\n",
    "    1. <a href=#exploration>Exploration</a>\n",
    "    1. <a href=#rfm>RFM Modeling<a>\n",
    "    1. <a href=#hclust>Hierarchical Clustering</a>\n",
    "1. <a href=#mba>Market Basket Analysis</a>\n",
    "1. <a href=#ref>References and Summary</a>\n",
    "---"
   ]
  },
  {
   "cell_type": "markdown",
   "metadata": {},
   "source": [
    "<a id='exploration'></a>\n",
    "## CDNOW Dataset \n",
    "\n",
    "### Exploration\n",
    "<a href=#top>(back to top)</a>\n",
    "\n",
    "CDNOW is a company that sold CDs online. It was started in 1994, but it closed after the dot-com bust of the late 90s. The dataset that we have comes from the transactions made by a **single cohort** of customers at this online store. The single cohort of customers is defined by customers who made their first purchase within the first 12 weeks of 1997. These customers are then tracked until June 30th 1998. Each row in our dataset consists of the customer id, week of purchase, quantity of CDs purchased and the amount spent in that week. There are 23,570 customers in this cohort and 64,258 transactions in this dataset. Let's read in the dataset first."
   ]
  },
  {
   "cell_type": "code",
   "execution_count": 2,
   "metadata": {},
   "outputs": [],
   "source": [
    "import numpy as np\n",
    "import pandas as pd\n",
    "from numpy.random import default_rng\n",
    "from scipy.cluster import hierarchy\n",
    "\n",
    "from myscripts import clust\n",
    "\n",
    "import matplotlib.pyplot as plt\n",
    "%matplotlib inline"
   ]
  },
  {
   "cell_type": "code",
   "execution_count": 22,
   "metadata": {},
   "outputs": [],
   "source": [
    "cdnow2 = pd.read_csv('../data/CDNOW2.csv')"
   ]
  },
  {
   "cell_type": "code",
   "execution_count": 23,
   "metadata": {},
   "outputs": [
    {
     "data": {
      "text/html": [
       "<div>\n",
       "<style scoped>\n",
       "    .dataframe tbody tr th:only-of-type {\n",
       "        vertical-align: middle;\n",
       "    }\n",
       "\n",
       "    .dataframe tbody tr th {\n",
       "        vertical-align: top;\n",
       "    }\n",
       "\n",
       "    .dataframe thead th {\n",
       "        text-align: right;\n",
       "    }\n",
       "</style>\n",
       "<table border=\"1\" class=\"dataframe\">\n",
       "  <thead>\n",
       "    <tr style=\"text-align: right;\">\n",
       "      <th></th>\n",
       "      <th>cid</th>\n",
       "      <th>week_num</th>\n",
       "      <th>qty</th>\n",
       "      <th>amnt</th>\n",
       "    </tr>\n",
       "  </thead>\n",
       "  <tbody>\n",
       "    <tr>\n",
       "      <th>0</th>\n",
       "      <td>1</td>\n",
       "      <td>1</td>\n",
       "      <td>1</td>\n",
       "      <td>11.77</td>\n",
       "    </tr>\n",
       "    <tr>\n",
       "      <th>1</th>\n",
       "      <td>2</td>\n",
       "      <td>2</td>\n",
       "      <td>6</td>\n",
       "      <td>89.00</td>\n",
       "    </tr>\n",
       "    <tr>\n",
       "      <th>2</th>\n",
       "      <td>3</td>\n",
       "      <td>1</td>\n",
       "      <td>2</td>\n",
       "      <td>20.76</td>\n",
       "    </tr>\n",
       "    <tr>\n",
       "      <th>3</th>\n",
       "      <td>3</td>\n",
       "      <td>13</td>\n",
       "      <td>2</td>\n",
       "      <td>20.76</td>\n",
       "    </tr>\n",
       "    <tr>\n",
       "      <th>4</th>\n",
       "      <td>3</td>\n",
       "      <td>14</td>\n",
       "      <td>2</td>\n",
       "      <td>19.54</td>\n",
       "    </tr>\n",
       "    <tr>\n",
       "      <th>5</th>\n",
       "      <td>3</td>\n",
       "      <td>46</td>\n",
       "      <td>5</td>\n",
       "      <td>57.45</td>\n",
       "    </tr>\n",
       "    <tr>\n",
       "      <th>6</th>\n",
       "      <td>3</td>\n",
       "      <td>47</td>\n",
       "      <td>4</td>\n",
       "      <td>20.96</td>\n",
       "    </tr>\n",
       "    <tr>\n",
       "      <th>7</th>\n",
       "      <td>3</td>\n",
       "      <td>74</td>\n",
       "      <td>1</td>\n",
       "      <td>16.99</td>\n",
       "    </tr>\n",
       "    <tr>\n",
       "      <th>8</th>\n",
       "      <td>4</td>\n",
       "      <td>1</td>\n",
       "      <td>2</td>\n",
       "      <td>29.33</td>\n",
       "    </tr>\n",
       "    <tr>\n",
       "      <th>9</th>\n",
       "      <td>4</td>\n",
       "      <td>3</td>\n",
       "      <td>2</td>\n",
       "      <td>29.73</td>\n",
       "    </tr>\n",
       "  </tbody>\n",
       "</table>\n",
       "</div>"
      ],
      "text/plain": [
       "   cid  week_num  qty   amnt\n",
       "0    1         1    1  11.77\n",
       "1    2         2    6  89.00\n",
       "2    3         1    2  20.76\n",
       "3    3        13    2  20.76\n",
       "4    3        14    2  19.54\n",
       "5    3        46    5  57.45\n",
       "6    3        47    4  20.96\n",
       "7    3        74    1  16.99\n",
       "8    4         1    2  29.33\n",
       "9    4         3    2  29.73"
      ]
     },
     "execution_count": 23,
     "metadata": {},
     "output_type": "execute_result"
    }
   ],
   "source": [
    "cdnow2.head(n=10)"
   ]
  },
  {
   "cell_type": "code",
   "execution_count": 24,
   "metadata": {},
   "outputs": [
    {
     "data": {
      "text/html": [
       "<div>\n",
       "<style scoped>\n",
       "    .dataframe tbody tr th:only-of-type {\n",
       "        vertical-align: middle;\n",
       "    }\n",
       "\n",
       "    .dataframe tbody tr th {\n",
       "        vertical-align: top;\n",
       "    }\n",
       "\n",
       "    .dataframe thead th {\n",
       "        text-align: right;\n",
       "    }\n",
       "</style>\n",
       "<table border=\"1\" class=\"dataframe\">\n",
       "  <thead>\n",
       "    <tr style=\"text-align: right;\">\n",
       "      <th></th>\n",
       "      <th>qty</th>\n",
       "      <th>amnt</th>\n",
       "    </tr>\n",
       "  </thead>\n",
       "  <tbody>\n",
       "    <tr>\n",
       "      <th>count</th>\n",
       "      <td>64258.00</td>\n",
       "      <td>64258.00</td>\n",
       "    </tr>\n",
       "    <tr>\n",
       "      <th>mean</th>\n",
       "      <td>2.61</td>\n",
       "      <td>38.91</td>\n",
       "    </tr>\n",
       "    <tr>\n",
       "      <th>std</th>\n",
       "      <td>2.83</td>\n",
       "      <td>43.99</td>\n",
       "    </tr>\n",
       "    <tr>\n",
       "      <th>min</th>\n",
       "      <td>1.00</td>\n",
       "      <td>0.00</td>\n",
       "    </tr>\n",
       "    <tr>\n",
       "      <th>50%</th>\n",
       "      <td>2.00</td>\n",
       "      <td>27.48</td>\n",
       "    </tr>\n",
       "    <tr>\n",
       "      <th>80%</th>\n",
       "      <td>4.00</td>\n",
       "      <td>54.22</td>\n",
       "    </tr>\n",
       "    <tr>\n",
       "      <th>90%</th>\n",
       "      <td>5.00</td>\n",
       "      <td>77.65</td>\n",
       "    </tr>\n",
       "    <tr>\n",
       "      <th>99%</th>\n",
       "      <td>13.00</td>\n",
       "      <td>199.99</td>\n",
       "    </tr>\n",
       "    <tr>\n",
       "      <th>max</th>\n",
       "      <td>162.00</td>\n",
       "      <td>3029.92</td>\n",
       "    </tr>\n",
       "  </tbody>\n",
       "</table>\n",
       "</div>"
      ],
      "text/plain": [
       "            qty      amnt\n",
       "count  64258.00  64258.00\n",
       "mean       2.61     38.91\n",
       "std        2.83     43.99\n",
       "min        1.00      0.00\n",
       "50%        2.00     27.48\n",
       "80%        4.00     54.22\n",
       "90%        5.00     77.65\n",
       "99%       13.00    199.99\n",
       "max      162.00   3029.92"
      ]
     },
     "execution_count": 24,
     "metadata": {},
     "output_type": "execute_result"
    }
   ],
   "source": [
    "cdnow2[['qty', 'amnt']].describe(percentiles=[0.8, 0.9, 0.99]).round(2)"
   ]
  },
  {
   "cell_type": "code",
   "execution_count": 25,
   "metadata": {},
   "outputs": [
    {
     "data": {
      "image/png": "[encoded data removed]",
      "text/plain": [
       "<Figure size 1200x400 with 2 Axes>"
      ]
     },
     "metadata": {},
     "output_type": "display_data"
    }
   ],
   "source": [
    "cdnow2[['qty', 'amnt']].hist(figsize=(12,4), grid=False, bins=50);"
   ]
  },
  {
   "cell_type": "markdown",
   "metadata": {},
   "source": [
    "The median amount spent in a weekly transaction is approximately 27 dollars. This is a very right-skewed distribution. The quantity of CDs bought has a median of 2 per week, but this is also an extremely right-skewed distribution."
   ]
  },
  {
   "cell_type": "markdown",
   "metadata": {},
   "source": [
    "---\n",
    "\n",
    "<a id='rfm'></a>\n",
    "### RFM Modeling\n",
    "<a href=#top>(back to top)</a>\n",
    "\n",
    "RFM tells you how customers behaved in the past:\n",
    "  * **Recency**: When was the last time they bought something?\n",
    "  * **Frequency**: How frequently do they buy things?\n",
    "  * **Monetary**: How much have they spent?\n",
    "  \n",
    "The ideas behind it are these assumptions:\n",
    "1. Recent customers are more likely to buy than customers who haven't purchased in a while.\n",
    "2. Customers who purchase often are more likely to buy than those who don't purchased often.\n",
    "3. Customers who spend more are more likely to buy again than those who spend less.\n",
    "\n",
    "The purpose of RFM modeling is to yield insights pertaining to:\n",
    "* the best/most valuable customers.\n",
    "* the right time to \"nudge\" or \"remind\" a customer via an offer.\n",
    "* identifying customers for whom it might be fruitful to try an upsell strategy.\n",
    "\n",
    "Here's how RFM works: For each customer, we compute the time since their most recent purchase ($r$), the number of visits or purchases made ($f$) and the amount spent per visit or the total amount spent ($m$). Next, we divide each category into five equal groups and assign a score (from 1 to 5) for each customer within that category. Higher scores correspond to more recent, more frequent and more valuable customers.\n",
    "\n",
    "Suppose that the original customers made the following transactions:"
   ]
  },
  {
   "cell_type": "markdown",
   "metadata": {},
   "source": [
    "<img src=\"../figs/how_does_rfm_work_1.png\" style=\"width: 600px;\"/>"
   ]
  },
  {
   "cell_type": "markdown",
   "metadata": {},
   "source": [
    "Then after the division into groups, the RFM scores would be:"
   ]
  },
  {
   "cell_type": "markdown",
   "metadata": {},
   "source": [
    "<img src=\"../figs/how_does_rfm_work_2.png\" style=\"width: 600px;\"/>"
   ]
  },
  {
   "cell_type": "markdown",
   "metadata": {},
   "source": [
    "Sometimes, if appropriate, a business may divide up their history into periods, and study how customers' RFM scores have changed. In such a scenario, if a customer changes from 555 to 125, it may be an indication that a customer is about to churn. It would be worth a try to offer him or her a retention package. On the other hand, if a customer changes from 531 to 555, the customer has the potential to be a loyal one. It is worthwhile to send them a note or a discount voucher to reward them."
   ]
  },
  {
   "cell_type": "code",
   "execution_count": 26,
   "metadata": {},
   "outputs": [],
   "source": [
    "cdgrouped = cdnow2.groupby('cid')\n",
    "\n",
    "cd2 = cdgrouped.agg({'amnt': np.sum, 'cid': len, 'week_num': np.max})"
   ]
  },
  {
   "cell_type": "code",
   "execution_count": 27,
   "metadata": {},
   "outputs": [
    {
     "data": {
      "text/html": [
       "<div>\n",
       "<style scoped>\n",
       "    .dataframe tbody tr th:only-of-type {\n",
       "        vertical-align: middle;\n",
       "    }\n",
       "\n",
       "    .dataframe tbody tr th {\n",
       "        vertical-align: top;\n",
       "    }\n",
       "\n",
       "    .dataframe thead th {\n",
       "        text-align: right;\n",
       "    }\n",
       "</style>\n",
       "<table border=\"1\" class=\"dataframe\">\n",
       "  <thead>\n",
       "    <tr style=\"text-align: right;\">\n",
       "      <th></th>\n",
       "      <th>amnt</th>\n",
       "      <th>cid</th>\n",
       "      <th>week_num</th>\n",
       "    </tr>\n",
       "    <tr>\n",
       "      <th>cid</th>\n",
       "      <th></th>\n",
       "      <th></th>\n",
       "      <th></th>\n",
       "    </tr>\n",
       "  </thead>\n",
       "  <tbody>\n",
       "    <tr>\n",
       "      <th>1</th>\n",
       "      <td>11.77</td>\n",
       "      <td>1</td>\n",
       "      <td>1</td>\n",
       "    </tr>\n",
       "    <tr>\n",
       "      <th>2</th>\n",
       "      <td>89.00</td>\n",
       "      <td>1</td>\n",
       "      <td>2</td>\n",
       "    </tr>\n",
       "    <tr>\n",
       "      <th>3</th>\n",
       "      <td>156.46</td>\n",
       "      <td>6</td>\n",
       "      <td>74</td>\n",
       "    </tr>\n",
       "    <tr>\n",
       "      <th>4</th>\n",
       "      <td>100.50</td>\n",
       "      <td>4</td>\n",
       "      <td>50</td>\n",
       "    </tr>\n",
       "    <tr>\n",
       "      <th>5</th>\n",
       "      <td>385.61</td>\n",
       "      <td>11</td>\n",
       "      <td>53</td>\n",
       "    </tr>\n",
       "    <tr>\n",
       "      <th>...</th>\n",
       "      <td>...</td>\n",
       "      <td>...</td>\n",
       "      <td>...</td>\n",
       "    </tr>\n",
       "    <tr>\n",
       "      <th>23566</th>\n",
       "      <td>36.00</td>\n",
       "      <td>1</td>\n",
       "      <td>12</td>\n",
       "    </tr>\n",
       "    <tr>\n",
       "      <th>23567</th>\n",
       "      <td>20.97</td>\n",
       "      <td>1</td>\n",
       "      <td>12</td>\n",
       "    </tr>\n",
       "    <tr>\n",
       "      <th>23568</th>\n",
       "      <td>121.70</td>\n",
       "      <td>3</td>\n",
       "      <td>16</td>\n",
       "    </tr>\n",
       "    <tr>\n",
       "      <th>23569</th>\n",
       "      <td>25.74</td>\n",
       "      <td>1</td>\n",
       "      <td>12</td>\n",
       "    </tr>\n",
       "    <tr>\n",
       "      <th>23570</th>\n",
       "      <td>94.08</td>\n",
       "      <td>2</td>\n",
       "      <td>13</td>\n",
       "    </tr>\n",
       "  </tbody>\n",
       "</table>\n",
       "<p>23570 rows × 3 columns</p>\n",
       "</div>"
      ],
      "text/plain": [
       "         amnt  cid  week_num\n",
       "cid                         \n",
       "1       11.77    1         1\n",
       "2       89.00    1         2\n",
       "3      156.46    6        74\n",
       "4      100.50    4        50\n",
       "5      385.61   11        53\n",
       "...       ...  ...       ...\n",
       "23566   36.00    1        12\n",
       "23567   20.97    1        12\n",
       "23568  121.70    3        16\n",
       "23569   25.74    1        12\n",
       "23570   94.08    2        13\n",
       "\n",
       "[23570 rows x 3 columns]"
      ]
     },
     "execution_count": 27,
     "metadata": {},
     "output_type": "execute_result"
    }
   ],
   "source": [
    "cd2"
   ]
  },
  {
   "cell_type": "code",
   "execution_count": 28,
   "metadata": {},
   "outputs": [],
   "source": [
    "# calculate the distance between customer week_num and max week_num\n",
    "cd2.loc[:, 'r'] = cd2.week_num - cdnow2.week_num.max()\n",
    "cd2.rename(columns = {'amnt':'m', 'cid':'f'}, inplace=True)"
   ]
  },
  {
   "cell_type": "code",
   "execution_count": 29,
   "metadata": {},
   "outputs": [
    {
     "data": {
      "text/html": [
       "<div>\n",
       "<style scoped>\n",
       "    .dataframe tbody tr th:only-of-type {\n",
       "        vertical-align: middle;\n",
       "    }\n",
       "\n",
       "    .dataframe tbody tr th {\n",
       "        vertical-align: top;\n",
       "    }\n",
       "\n",
       "    .dataframe thead th {\n",
       "        text-align: right;\n",
       "    }\n",
       "</style>\n",
       "<table border=\"1\" class=\"dataframe\">\n",
       "  <thead>\n",
       "    <tr style=\"text-align: right;\">\n",
       "      <th></th>\n",
       "      <th>m</th>\n",
       "      <th>f</th>\n",
       "      <th>week_num</th>\n",
       "      <th>r</th>\n",
       "    </tr>\n",
       "    <tr>\n",
       "      <th>cid</th>\n",
       "      <th></th>\n",
       "      <th></th>\n",
       "      <th></th>\n",
       "      <th></th>\n",
       "    </tr>\n",
       "  </thead>\n",
       "  <tbody>\n",
       "    <tr>\n",
       "      <th>1</th>\n",
       "      <td>11.77</td>\n",
       "      <td>1</td>\n",
       "      <td>1</td>\n",
       "      <td>-77</td>\n",
       "    </tr>\n",
       "    <tr>\n",
       "      <th>2</th>\n",
       "      <td>89.00</td>\n",
       "      <td>1</td>\n",
       "      <td>2</td>\n",
       "      <td>-76</td>\n",
       "    </tr>\n",
       "    <tr>\n",
       "      <th>3</th>\n",
       "      <td>156.46</td>\n",
       "      <td>6</td>\n",
       "      <td>74</td>\n",
       "      <td>-4</td>\n",
       "    </tr>\n",
       "    <tr>\n",
       "      <th>4</th>\n",
       "      <td>100.50</td>\n",
       "      <td>4</td>\n",
       "      <td>50</td>\n",
       "      <td>-28</td>\n",
       "    </tr>\n",
       "    <tr>\n",
       "      <th>5</th>\n",
       "      <td>385.61</td>\n",
       "      <td>11</td>\n",
       "      <td>53</td>\n",
       "      <td>-25</td>\n",
       "    </tr>\n",
       "    <tr>\n",
       "      <th>...</th>\n",
       "      <td>...</td>\n",
       "      <td>...</td>\n",
       "      <td>...</td>\n",
       "      <td>...</td>\n",
       "    </tr>\n",
       "    <tr>\n",
       "      <th>23566</th>\n",
       "      <td>36.00</td>\n",
       "      <td>1</td>\n",
       "      <td>12</td>\n",
       "      <td>-66</td>\n",
       "    </tr>\n",
       "    <tr>\n",
       "      <th>23567</th>\n",
       "      <td>20.97</td>\n",
       "      <td>1</td>\n",
       "      <td>12</td>\n",
       "      <td>-66</td>\n",
       "    </tr>\n",
       "    <tr>\n",
       "      <th>23568</th>\n",
       "      <td>121.70</td>\n",
       "      <td>3</td>\n",
       "      <td>16</td>\n",
       "      <td>-62</td>\n",
       "    </tr>\n",
       "    <tr>\n",
       "      <th>23569</th>\n",
       "      <td>25.74</td>\n",
       "      <td>1</td>\n",
       "      <td>12</td>\n",
       "      <td>-66</td>\n",
       "    </tr>\n",
       "    <tr>\n",
       "      <th>23570</th>\n",
       "      <td>94.08</td>\n",
       "      <td>2</td>\n",
       "      <td>13</td>\n",
       "      <td>-65</td>\n",
       "    </tr>\n",
       "  </tbody>\n",
       "</table>\n",
       "<p>23570 rows × 4 columns</p>\n",
       "</div>"
      ],
      "text/plain": [
       "            m   f  week_num   r\n",
       "cid                            \n",
       "1       11.77   1         1 -77\n",
       "2       89.00   1         2 -76\n",
       "3      156.46   6        74  -4\n",
       "4      100.50   4        50 -28\n",
       "5      385.61  11        53 -25\n",
       "...       ...  ..       ...  ..\n",
       "23566   36.00   1        12 -66\n",
       "23567   20.97   1        12 -66\n",
       "23568  121.70   3        16 -62\n",
       "23569   25.74   1        12 -66\n",
       "23570   94.08   2        13 -65\n",
       "\n",
       "[23570 rows x 4 columns]"
      ]
     },
     "execution_count": 29,
     "metadata": {},
     "output_type": "execute_result"
    }
   ],
   "source": [
    "cd2"
   ]
  },
  {
   "cell_type": "code",
   "execution_count": 31,
   "metadata": {},
   "outputs": [
    {
     "data": {
      "text/plain": [
       "count    23570.000000\n",
       "mean         2.726262\n",
       "std          3.365080\n",
       "min          1.000000\n",
       "20%          1.000000\n",
       "40%          1.000000\n",
       "50%          1.000000\n",
       "60%          2.000000\n",
       "80%          4.000000\n",
       "max         71.000000\n",
       "Name: f, dtype: float64"
      ]
     },
     "execution_count": 31,
     "metadata": {},
     "output_type": "execute_result"
    }
   ],
   "source": [
    "cd2.f.describe(percentiles=[.2, .4, .6, .8])"
   ]
  },
  {
   "cell_type": "code",
   "execution_count": 35,
   "metadata": {},
   "outputs": [
    {
     "data": {
      "text/plain": [
       "cid\n",
       "1        1\n",
       "2        1\n",
       "3        3\n",
       "4        2\n",
       "5        3\n",
       "        ..\n",
       "23566    1\n",
       "23567    1\n",
       "23568    2\n",
       "23569    1\n",
       "23570    1\n",
       "Name: f, Length: 23570, dtype: category\n",
       "Categories (3, int64): [1 < 2 < 3]"
      ]
     },
     "execution_count": 35,
     "metadata": {},
     "output_type": "execute_result"
    }
   ],
   "source": [
    "pd.qcut(cd2.f, [0, 0.2, 0.4, 0.6, 0.8, 1.0], labels=[1, 2, 3], duplicates='drop')"
   ]
  },
  {
   "cell_type": "code",
   "execution_count": 36,
   "metadata": {},
   "outputs": [],
   "source": [
    "cd2['R'] = pd.qcut(cd2.r, [0, 0.2, 0.4, 0.6, 0.8, 1.0], labels=[1, 2, 3, 4, 5])\n",
    "# cd2['F'] = pd.qcut(cd2.f, [0, 0.2, 0.4, 0.6, 0.8, 1.0], labels=[1, 2, 3, 4, 5])\n",
    "cd2['F'] = pd.qcut(cd2.f, [0, 0.2, 0.4, 0.6, 0.8, 1.0], labels=[1, 4, 5], duplicates='drop')\n",
    "cd2['M'] = pd.qcut(cd2.m, [0, 0.2, 0.4, 0.6, 0.8, 1.0], labels=[1, 2, 3, 4, 5])"
   ]
  },
  {
   "cell_type": "code",
   "execution_count": 37,
   "metadata": {},
   "outputs": [
    {
     "data": {
      "text/html": [
       "<div>\n",
       "<style scoped>\n",
       "    .dataframe tbody tr th:only-of-type {\n",
       "        vertical-align: middle;\n",
       "    }\n",
       "\n",
       "    .dataframe tbody tr th {\n",
       "        vertical-align: top;\n",
       "    }\n",
       "\n",
       "    .dataframe thead th {\n",
       "        text-align: right;\n",
       "    }\n",
       "</style>\n",
       "<table border=\"1\" class=\"dataframe\">\n",
       "  <thead>\n",
       "    <tr style=\"text-align: right;\">\n",
       "      <th></th>\n",
       "      <th>m</th>\n",
       "      <th>f</th>\n",
       "      <th>week_num</th>\n",
       "      <th>r</th>\n",
       "      <th>R</th>\n",
       "      <th>F</th>\n",
       "      <th>M</th>\n",
       "    </tr>\n",
       "    <tr>\n",
       "      <th>cid</th>\n",
       "      <th></th>\n",
       "      <th></th>\n",
       "      <th></th>\n",
       "      <th></th>\n",
       "      <th></th>\n",
       "      <th></th>\n",
       "      <th></th>\n",
       "    </tr>\n",
       "  </thead>\n",
       "  <tbody>\n",
       "    <tr>\n",
       "      <th>1</th>\n",
       "      <td>11.77</td>\n",
       "      <td>1</td>\n",
       "      <td>1</td>\n",
       "      <td>-77</td>\n",
       "      <td>1</td>\n",
       "      <td>1</td>\n",
       "      <td>1</td>\n",
       "    </tr>\n",
       "    <tr>\n",
       "      <th>2</th>\n",
       "      <td>89.00</td>\n",
       "      <td>1</td>\n",
       "      <td>2</td>\n",
       "      <td>-76</td>\n",
       "      <td>1</td>\n",
       "      <td>1</td>\n",
       "      <td>4</td>\n",
       "    </tr>\n",
       "    <tr>\n",
       "      <th>3</th>\n",
       "      <td>156.46</td>\n",
       "      <td>6</td>\n",
       "      <td>74</td>\n",
       "      <td>-4</td>\n",
       "      <td>5</td>\n",
       "      <td>5</td>\n",
       "      <td>5</td>\n",
       "    </tr>\n",
       "    <tr>\n",
       "      <th>4</th>\n",
       "      <td>100.50</td>\n",
       "      <td>4</td>\n",
       "      <td>50</td>\n",
       "      <td>-28</td>\n",
       "      <td>4</td>\n",
       "      <td>4</td>\n",
       "      <td>4</td>\n",
       "    </tr>\n",
       "    <tr>\n",
       "      <th>5</th>\n",
       "      <td>385.61</td>\n",
       "      <td>11</td>\n",
       "      <td>53</td>\n",
       "      <td>-25</td>\n",
       "      <td>4</td>\n",
       "      <td>5</td>\n",
       "      <td>5</td>\n",
       "    </tr>\n",
       "    <tr>\n",
       "      <th>...</th>\n",
       "      <td>...</td>\n",
       "      <td>...</td>\n",
       "      <td>...</td>\n",
       "      <td>...</td>\n",
       "      <td>...</td>\n",
       "      <td>...</td>\n",
       "      <td>...</td>\n",
       "    </tr>\n",
       "    <tr>\n",
       "      <th>23566</th>\n",
       "      <td>36.00</td>\n",
       "      <td>1</td>\n",
       "      <td>12</td>\n",
       "      <td>-66</td>\n",
       "      <td>3</td>\n",
       "      <td>1</td>\n",
       "      <td>3</td>\n",
       "    </tr>\n",
       "    <tr>\n",
       "      <th>23567</th>\n",
       "      <td>20.97</td>\n",
       "      <td>1</td>\n",
       "      <td>12</td>\n",
       "      <td>-66</td>\n",
       "      <td>3</td>\n",
       "      <td>1</td>\n",
       "      <td>2</td>\n",
       "    </tr>\n",
       "    <tr>\n",
       "      <th>23568</th>\n",
       "      <td>121.70</td>\n",
       "      <td>3</td>\n",
       "      <td>16</td>\n",
       "      <td>-62</td>\n",
       "      <td>3</td>\n",
       "      <td>4</td>\n",
       "      <td>4</td>\n",
       "    </tr>\n",
       "    <tr>\n",
       "      <th>23569</th>\n",
       "      <td>25.74</td>\n",
       "      <td>1</td>\n",
       "      <td>12</td>\n",
       "      <td>-66</td>\n",
       "      <td>3</td>\n",
       "      <td>1</td>\n",
       "      <td>2</td>\n",
       "    </tr>\n",
       "    <tr>\n",
       "      <th>23570</th>\n",
       "      <td>94.08</td>\n",
       "      <td>2</td>\n",
       "      <td>13</td>\n",
       "      <td>-65</td>\n",
       "      <td>3</td>\n",
       "      <td>1</td>\n",
       "      <td>4</td>\n",
       "    </tr>\n",
       "  </tbody>\n",
       "</table>\n",
       "<p>23570 rows × 7 columns</p>\n",
       "</div>"
      ],
      "text/plain": [
       "            m   f  week_num   r  R  F  M\n",
       "cid                                     \n",
       "1       11.77   1         1 -77  1  1  1\n",
       "2       89.00   1         2 -76  1  1  4\n",
       "3      156.46   6        74  -4  5  5  5\n",
       "4      100.50   4        50 -28  4  4  4\n",
       "5      385.61  11        53 -25  4  5  5\n",
       "...       ...  ..       ...  .. .. .. ..\n",
       "23566   36.00   1        12 -66  3  1  3\n",
       "23567   20.97   1        12 -66  3  1  2\n",
       "23568  121.70   3        16 -62  3  4  4\n",
       "23569   25.74   1        12 -66  3  1  2\n",
       "23570   94.08   2        13 -65  3  1  4\n",
       "\n",
       "[23570 rows x 7 columns]"
      ]
     },
     "execution_count": 37,
     "metadata": {},
     "output_type": "execute_result"
    }
   ],
   "source": [
    "cd2"
   ]
  },
  {
   "cell_type": "code",
   "execution_count": 38,
   "metadata": {},
   "outputs": [],
   "source": [
    "cd2.loc[:, 'RFM'] = cd2.loc[:, ['R', 'F', 'M']].apply(\n",
    "    lambda x: str(x[0]) + str(x[1]) + str(x[2]), axis=1)"
   ]
  },
  {
   "cell_type": "code",
   "execution_count": 39,
   "metadata": {},
   "outputs": [
    {
     "data": {
      "text/html": [
       "<div>\n",
       "<style scoped>\n",
       "    .dataframe tbody tr th:only-of-type {\n",
       "        vertical-align: middle;\n",
       "    }\n",
       "\n",
       "    .dataframe tbody tr th {\n",
       "        vertical-align: top;\n",
       "    }\n",
       "\n",
       "    .dataframe thead th {\n",
       "        text-align: right;\n",
       "    }\n",
       "</style>\n",
       "<table border=\"1\" class=\"dataframe\">\n",
       "  <thead>\n",
       "    <tr style=\"text-align: right;\">\n",
       "      <th></th>\n",
       "      <th>m</th>\n",
       "      <th>f</th>\n",
       "      <th>week_num</th>\n",
       "      <th>r</th>\n",
       "      <th>R</th>\n",
       "      <th>F</th>\n",
       "      <th>M</th>\n",
       "      <th>RFM</th>\n",
       "    </tr>\n",
       "    <tr>\n",
       "      <th>cid</th>\n",
       "      <th></th>\n",
       "      <th></th>\n",
       "      <th></th>\n",
       "      <th></th>\n",
       "      <th></th>\n",
       "      <th></th>\n",
       "      <th></th>\n",
       "      <th></th>\n",
       "    </tr>\n",
       "  </thead>\n",
       "  <tbody>\n",
       "    <tr>\n",
       "      <th>1</th>\n",
       "      <td>11.77</td>\n",
       "      <td>1</td>\n",
       "      <td>1</td>\n",
       "      <td>-77</td>\n",
       "      <td>1</td>\n",
       "      <td>1</td>\n",
       "      <td>1</td>\n",
       "      <td>111</td>\n",
       "    </tr>\n",
       "    <tr>\n",
       "      <th>2</th>\n",
       "      <td>89.00</td>\n",
       "      <td>1</td>\n",
       "      <td>2</td>\n",
       "      <td>-76</td>\n",
       "      <td>1</td>\n",
       "      <td>1</td>\n",
       "      <td>4</td>\n",
       "      <td>114</td>\n",
       "    </tr>\n",
       "    <tr>\n",
       "      <th>3</th>\n",
       "      <td>156.46</td>\n",
       "      <td>6</td>\n",
       "      <td>74</td>\n",
       "      <td>-4</td>\n",
       "      <td>5</td>\n",
       "      <td>5</td>\n",
       "      <td>5</td>\n",
       "      <td>555</td>\n",
       "    </tr>\n",
       "    <tr>\n",
       "      <th>4</th>\n",
       "      <td>100.50</td>\n",
       "      <td>4</td>\n",
       "      <td>50</td>\n",
       "      <td>-28</td>\n",
       "      <td>4</td>\n",
       "      <td>4</td>\n",
       "      <td>4</td>\n",
       "      <td>444</td>\n",
       "    </tr>\n",
       "    <tr>\n",
       "      <th>5</th>\n",
       "      <td>385.61</td>\n",
       "      <td>11</td>\n",
       "      <td>53</td>\n",
       "      <td>-25</td>\n",
       "      <td>4</td>\n",
       "      <td>5</td>\n",
       "      <td>5</td>\n",
       "      <td>455</td>\n",
       "    </tr>\n",
       "  </tbody>\n",
       "</table>\n",
       "</div>"
      ],
      "text/plain": [
       "          m   f  week_num   r  R  F  M  RFM\n",
       "cid                                        \n",
       "1     11.77   1         1 -77  1  1  1  111\n",
       "2     89.00   1         2 -76  1  1  4  114\n",
       "3    156.46   6        74  -4  5  5  5  555\n",
       "4    100.50   4        50 -28  4  4  4  444\n",
       "5    385.61  11        53 -25  4  5  5  455"
      ]
     },
     "execution_count": 39,
     "metadata": {},
     "output_type": "execute_result"
    }
   ],
   "source": [
    "cd2.head()"
   ]
  },
  {
   "cell_type": "code",
   "execution_count": 40,
   "metadata": {},
   "outputs": [
    {
     "data": {
      "text/html": [
       "<div>\n",
       "<style scoped>\n",
       "    .dataframe tbody tr th:only-of-type {\n",
       "        vertical-align: middle;\n",
       "    }\n",
       "\n",
       "    .dataframe tbody tr th {\n",
       "        vertical-align: top;\n",
       "    }\n",
       "\n",
       "    .dataframe thead th {\n",
       "        text-align: right;\n",
       "    }\n",
       "</style>\n",
       "<table border=\"1\" class=\"dataframe\">\n",
       "  <thead>\n",
       "    <tr style=\"text-align: right;\">\n",
       "      <th></th>\n",
       "      <th>M</th>\n",
       "      <th>1</th>\n",
       "      <th>2</th>\n",
       "      <th>3</th>\n",
       "      <th>4</th>\n",
       "      <th>5</th>\n",
       "      <th>All</th>\n",
       "    </tr>\n",
       "    <tr>\n",
       "      <th>R</th>\n",
       "      <th>F</th>\n",
       "      <th></th>\n",
       "      <th></th>\n",
       "      <th></th>\n",
       "      <th></th>\n",
       "      <th></th>\n",
       "      <th></th>\n",
       "    </tr>\n",
       "  </thead>\n",
       "  <tbody>\n",
       "    <tr>\n",
       "      <th rowspan=\"2\" valign=\"top\">1</th>\n",
       "      <th>1</th>\n",
       "      <td>1838</td>\n",
       "      <td>1480</td>\n",
       "      <td>1010</td>\n",
       "      <td>512</td>\n",
       "      <td>91</td>\n",
       "      <td>4931</td>\n",
       "    </tr>\n",
       "    <tr>\n",
       "      <th>4</th>\n",
       "      <td>0</td>\n",
       "      <td>0</td>\n",
       "      <td>4</td>\n",
       "      <td>7</td>\n",
       "      <td>3</td>\n",
       "      <td>14</td>\n",
       "    </tr>\n",
       "    <tr>\n",
       "      <th rowspan=\"3\" valign=\"top\">2</th>\n",
       "      <th>1</th>\n",
       "      <td>1666</td>\n",
       "      <td>1445</td>\n",
       "      <td>1111</td>\n",
       "      <td>498</td>\n",
       "      <td>101</td>\n",
       "      <td>4821</td>\n",
       "    </tr>\n",
       "    <tr>\n",
       "      <th>4</th>\n",
       "      <td>0</td>\n",
       "      <td>1</td>\n",
       "      <td>12</td>\n",
       "      <td>24</td>\n",
       "      <td>20</td>\n",
       "      <td>57</td>\n",
       "    </tr>\n",
       "    <tr>\n",
       "      <th>5</th>\n",
       "      <td>0</td>\n",
       "      <td>0</td>\n",
       "      <td>0</td>\n",
       "      <td>1</td>\n",
       "      <td>2</td>\n",
       "      <td>3</td>\n",
       "    </tr>\n",
       "    <tr>\n",
       "      <th rowspan=\"3\" valign=\"top\">3</th>\n",
       "      <th>1</th>\n",
       "      <td>1304</td>\n",
       "      <td>1107</td>\n",
       "      <td>966</td>\n",
       "      <td>580</td>\n",
       "      <td>112</td>\n",
       "      <td>4069</td>\n",
       "    </tr>\n",
       "    <tr>\n",
       "      <th>4</th>\n",
       "      <td>0</td>\n",
       "      <td>1</td>\n",
       "      <td>65</td>\n",
       "      <td>153</td>\n",
       "      <td>91</td>\n",
       "      <td>310</td>\n",
       "    </tr>\n",
       "    <tr>\n",
       "      <th>5</th>\n",
       "      <td>0</td>\n",
       "      <td>0</td>\n",
       "      <td>0</td>\n",
       "      <td>10</td>\n",
       "      <td>28</td>\n",
       "      <td>38</td>\n",
       "    </tr>\n",
       "    <tr>\n",
       "      <th rowspan=\"3\" valign=\"top\">4</th>\n",
       "      <th>1</th>\n",
       "      <td>7</td>\n",
       "      <td>415</td>\n",
       "      <td>665</td>\n",
       "      <td>560</td>\n",
       "      <td>193</td>\n",
       "      <td>1840</td>\n",
       "    </tr>\n",
       "    <tr>\n",
       "      <th>4</th>\n",
       "      <td>0</td>\n",
       "      <td>15</td>\n",
       "      <td>397</td>\n",
       "      <td>894</td>\n",
       "      <td>559</td>\n",
       "      <td>1865</td>\n",
       "    </tr>\n",
       "    <tr>\n",
       "      <th>5</th>\n",
       "      <td>0</td>\n",
       "      <td>0</td>\n",
       "      <td>5</td>\n",
       "      <td>217</td>\n",
       "      <td>710</td>\n",
       "      <td>932</td>\n",
       "    </tr>\n",
       "    <tr>\n",
       "      <th rowspan=\"3\" valign=\"top\">5</th>\n",
       "      <th>1</th>\n",
       "      <td>2</td>\n",
       "      <td>142</td>\n",
       "      <td>219</td>\n",
       "      <td>178</td>\n",
       "      <td>54</td>\n",
       "      <td>595</td>\n",
       "    </tr>\n",
       "    <tr>\n",
       "      <th>4</th>\n",
       "      <td>0</td>\n",
       "      <td>9</td>\n",
       "      <td>246</td>\n",
       "      <td>689</td>\n",
       "      <td>454</td>\n",
       "      <td>1398</td>\n",
       "    </tr>\n",
       "    <tr>\n",
       "      <th>5</th>\n",
       "      <td>0</td>\n",
       "      <td>0</td>\n",
       "      <td>10</td>\n",
       "      <td>392</td>\n",
       "      <td>2295</td>\n",
       "      <td>2697</td>\n",
       "    </tr>\n",
       "    <tr>\n",
       "      <th>All</th>\n",
       "      <th></th>\n",
       "      <td>4817</td>\n",
       "      <td>4615</td>\n",
       "      <td>4710</td>\n",
       "      <td>4715</td>\n",
       "      <td>4713</td>\n",
       "      <td>23570</td>\n",
       "    </tr>\n",
       "  </tbody>\n",
       "</table>\n",
       "</div>"
      ],
      "text/plain": [
       "M         1     2     3     4     5    All\n",
       "R   F                                     \n",
       "1   1  1838  1480  1010   512    91   4931\n",
       "    4     0     0     4     7     3     14\n",
       "2   1  1666  1445  1111   498   101   4821\n",
       "    4     0     1    12    24    20     57\n",
       "    5     0     0     0     1     2      3\n",
       "3   1  1304  1107   966   580   112   4069\n",
       "    4     0     1    65   153    91    310\n",
       "    5     0     0     0    10    28     38\n",
       "4   1     7   415   665   560   193   1840\n",
       "    4     0    15   397   894   559   1865\n",
       "    5     0     0     5   217   710    932\n",
       "5   1     2   142   219   178    54    595\n",
       "    4     0     9   246   689   454   1398\n",
       "    5     0     0    10   392  2295   2697\n",
       "All    4817  4615  4710  4715  4713  23570"
      ]
     },
     "execution_count": 40,
     "metadata": {},
     "output_type": "execute_result"
    }
   ],
   "source": [
    "pd.crosstab([cd2.R, cd2.F], cd2.M, margins=True)"
   ]
  },
  {
   "cell_type": "code",
   "execution_count": 41,
   "metadata": {},
   "outputs": [
    {
     "data": {
      "text/html": [
       "<div>\n",
       "<style scoped>\n",
       "    .dataframe tbody tr th:only-of-type {\n",
       "        vertical-align: middle;\n",
       "    }\n",
       "\n",
       "    .dataframe tbody tr th {\n",
       "        vertical-align: top;\n",
       "    }\n",
       "\n",
       "    .dataframe thead th {\n",
       "        text-align: right;\n",
       "    }\n",
       "</style>\n",
       "<table border=\"1\" class=\"dataframe\">\n",
       "  <thead>\n",
       "    <tr style=\"text-align: right;\">\n",
       "      <th>R</th>\n",
       "      <th>1</th>\n",
       "      <th>2</th>\n",
       "      <th>3</th>\n",
       "      <th>4</th>\n",
       "      <th>5</th>\n",
       "    </tr>\n",
       "    <tr>\n",
       "      <th>F</th>\n",
       "      <th></th>\n",
       "      <th></th>\n",
       "      <th></th>\n",
       "      <th></th>\n",
       "      <th></th>\n",
       "    </tr>\n",
       "  </thead>\n",
       "  <tbody>\n",
       "    <tr>\n",
       "      <th>1</th>\n",
       "      <td>33.19</td>\n",
       "      <td>34.59</td>\n",
       "      <td>38.57</td>\n",
       "      <td>69.92</td>\n",
       "      <td>65.39</td>\n",
       "    </tr>\n",
       "    <tr>\n",
       "      <th>4</th>\n",
       "      <td>101.16</td>\n",
       "      <td>141.70</td>\n",
       "      <td>133.12</td>\n",
       "      <td>121.61</td>\n",
       "      <td>126.99</td>\n",
       "    </tr>\n",
       "    <tr>\n",
       "      <th>5</th>\n",
       "      <td>NaN</td>\n",
       "      <td>434.55</td>\n",
       "      <td>402.17</td>\n",
       "      <td>279.44</td>\n",
       "      <td>412.79</td>\n",
       "    </tr>\n",
       "  </tbody>\n",
       "</table>\n",
       "</div>"
      ],
      "text/plain": [
       "R       1       2       3       4       5\n",
       "F                                        \n",
       "1   33.19   34.59   38.57   69.92   65.39\n",
       "4  101.16  141.70  133.12  121.61  126.99\n",
       "5     NaN  434.55  402.17  279.44  412.79"
      ]
     },
     "execution_count": 41,
     "metadata": {},
     "output_type": "execute_result"
    }
   ],
   "source": [
    "cd2.pivot_table(index='F', columns='R', values='m', aggfunc='mean').round(2)"
   ]
  },
  {
   "cell_type": "markdown",
   "metadata": {},
   "source": [
    "Instead of using quintiles, let us use the raw features and perform hierarchical clustering - let the data speak for itself."
   ]
  },
  {
   "cell_type": "code",
   "execution_count": 42,
   "metadata": {},
   "outputs": [
    {
     "data": {
      "text/plain": [
       "(23570, 3)"
      ]
     },
     "execution_count": 42,
     "metadata": {},
     "output_type": "execute_result"
    }
   ],
   "source": [
    "cd3 = cd2[['r', 'f', 'm']].copy()\n",
    "cd3.shape"
   ]
  },
  {
   "cell_type": "markdown",
   "metadata": {},
   "source": [
    "<a id='hclust'></a>\n",
    "### Hierarchical Clustering\n",
    "<a href=#top>(back to top)</a>\n",
    "\n",
    "Instead of converting the recency, frequency and monetary variables into quintiles and then studying them, we can use an **unsupervised learning** technique to discover the patterns in the data. In particular, we can perform cluster analysis to segment the data. Our goal here is to assign customers into groups, or clusters, such that those within each cluster are more \"closely related\" to one another than with customers in another cluster.\n",
    "\n",
    "For instance, here is what the output of a clustering algorithm would like when applied to the 2-variable data on the left."
   ]
  },
  {
   "cell_type": "code",
   "execution_count": 43,
   "metadata": {},
   "outputs": [],
   "source": [
    "rng = default_rng(5003)"
   ]
  },
  {
   "cell_type": "code",
   "execution_count": 44,
   "metadata": {},
   "outputs": [],
   "source": [
    "# generating data (that I know comes from two groups)\n",
    "X1 = rng.normal(loc=2.0, scale=0.5, size=20).reshape((10,2))\n",
    "X2 = rng.normal(loc=-2.0, scale=0.5, size=20).reshape((10,2))\n",
    "dummy_data = np.vstack([X1, X2])"
   ]
  },
  {
   "cell_type": "code",
   "execution_count": 45,
   "metadata": {},
   "outputs": [],
   "source": [
    "# extracting and identifying members of two clusters\n",
    "Z = hierarchy.linkage(dummy_data)\n",
    "grps = hierarchy.cut_tree(Z, 2).ravel()\n",
    "fc = np.where(grps == 1, 'red', 'blue')"
   ]
  },
  {
   "cell_type": "code",
   "execution_count": 46,
   "metadata": {
    "tags": []
   },
   "outputs": [
    {
     "data": {
      "image/png": "[encoded data removed]",
      "text/plain": [
       "<Figure size 1200x400 with 2 Axes>"
      ]
     },
     "metadata": {},
     "output_type": "display_data"
    }
   ],
   "source": [
    "# Visualising the original data, and the identified clusters.\n",
    "fig, (ax1,ax2) = plt.subplots(1, 2, figsize=(12,4))\n",
    "ax1.scatter(dummy_data[:,0], dummy_data[:, 1], facecolor='black'); ax1.set_title('Before Clustering');\n",
    "ax2.scatter(dummy_data[:,0], dummy_data[:, 1], facecolor=fc); ax2.set_title('Clustering Algo Output');"
   ]
  },
  {
   "cell_type": "markdown",
   "metadata": {},
   "source": [
    "There are many different clustering algorithms. You may have heard of K-means, a very popular one, before. The one we are going to use here is very similar to it. It is known as **agglomerative hierarchical clustering**. Let's take a look at how it works first.\n",
    "\n",
    "<img src=\"../figs/clust_agglomerative_hierarchical.png\" style=\"width: 600px;\"/>"
   ]
  },
  {
   "cell_type": "markdown",
   "metadata": {},
   "source": [
    "### How Does The Clustering Algorithm Work?\n",
    "\n",
    "#### Dissimilarity Measures Between Individual Observations\n",
    "\n",
    "As we mentioned earlier, cluster analysis tries to identify groups such that those within a group are \"similar\" to one another. In order to proceed, we need to formalise this idea of similarity/dissimilarity. \n",
    "\n",
    "Most of the time, we have $N$ observations $x_1, x_2, \\dots, x_N$ and we wish to group them into $K$ clusters. Each observation is typically a vector of $p$ observed values, so we may write $x_i = (x_{i1}, x_{i2}, \\dots, x_{ip})$ for instance. Referring back to our CD example, we had $N=23570$ customers, and we had engineered $p=3$ features: recency, frequency and monetary value.\n",
    "\n",
    "Most clustering algorithms require a dissimilarity matrix as input, so we need a function that can measure **pairwise dissimilarity**. One of the most common choices is the Euclidean distance (or rather the $L_2$-norm) between $x_i$ and $x_j$:\n",
    "\\begin{equation*}\n",
    "d(x_i,\\;x_j) = \\bigg\\{\\sum_{s=1}^p (x_{is} - x_{js})^2\\bigg\\}^{1/2}\n",
    "\\end{equation*}\n",
    "\n",
    "Another common choice is the $L_1$-norm:\n",
    "\\begin{equation*}\n",
    "d(x_i,\\;x_j) = \\sum_{s=1}^p |x_{is} - x_{js}|\n",
    "\\end{equation*}\n",
    "\n",
    "#### Dissimilarity Measures Between Clusters or Groups\n",
    "\n",
    "For hierarchical clustering, we need to build on this choice of pairwise dissimilarity to obtain a measure of dissimilarity between groups. In other words, suppose we have two groups of points $G$ and $H$, with $N_G$ and $N_H$ points within them respectively. We wish to use the pairwise dissimilarity between points in $G$ and $H$, to compute a dissimilarity between $G$ and $H$. We call this the **linkage method**, and there are several options for this too:\n",
    "\n",
    "1. Single linkage takes the intergroup dissimilarity to be that of the closest (least dissimilar) pair.\n",
    "\\begin{equation*}\n",
    "d_S(G,H) = \\min_{i \\in G, j \\in H} d(x_i,\\, x_j)\n",
    "\\end{equation*}\n",
    "2. Complete linkage takes the intergroup dissimilarity to be that of the furthest (most dissimilar) pair.\n",
    "\\begin{equation*}\n",
    "d_C(G,H) = \\max_{i \\in G, j \\in H} d(x_i,\\, x_j)\n",
    "\\end{equation*}\n",
    "3. Average linkage utilises the average of all pairwise dissimilarities between the groups:\n",
    "\\begin{equation*}\n",
    "d_A(G,H) = \\frac{1}{N_G N_H} \\sum_{i \\in G} \\sum_{j \\in H} d(x_i,x_j)\n",
    "\\end{equation*}\n",
    "4. Ward linkage uses a more complicated distance to minimise the variance within groups. It usually returns more compact clusters than the others. Suppose that group $G$ was formed by merging groups $G_1$ and $G_2$. Then the Ward distance between groups is \n",
    "\\begin{equation*}\n",
    "d_W(G,H) = \\left\\{\\frac{|H| + |G_1|}{N_G + N_H}d_W(H,G_1)^2 + \\frac{|H| + |G_2|}{N_G + N_H}d_W(H,G_2)^2 + \\frac{|H|}{N_G +N_H}d_W(G_1,G_2)^2\\right\\}^{1/2}\n",
    "\\end{equation*}\n",
    "\n",
    "The choice of linkage can affect the final clusters we obtain, so it is important to choose carefully based on the subject matter.\n",
    "\n",
    "<img src=\"../figs/clust_linkage_mtds.png\" style=\"width: 600px;\"/>"
   ]
  },
  {
   "cell_type": "markdown",
   "metadata": {},
   "source": [
    "#### Agglomerative Hierarchical Clustering Algorithm\n",
    "\n",
    "The output of the algorithm is a hierarchical representation of the data, where clusters at each level of the \n",
    "hierarchy are created by merging clusters at the next lower level. At the lowest level, each cluster contains a single observation. At the highest level there is only one cluster containing all of the data.\n",
    "\n",
    "Starting at the bottom (with $N$ clusters of singletons), we recursively merge a selected pair of\n",
    "clusters into a single cluster. This produces a grouping at the next higher level with one less cluster. The pair chosen for merging consist of the two groups with the smallest intergroup dissimilarity. \n",
    "\n",
    "As you can tell, this algorithm does not require the number of clusters as an input. The final number of clusters can be based on a visualisation of this hierarchy of clusterings, through a dendrogram."
   ]
  },
  {
   "cell_type": "code",
   "execution_count": 47,
   "metadata": {},
   "outputs": [],
   "source": [
    "X = np.array([[.25, .7], [.3, .8], [.7, .6]])\n",
    "fc_dict={'Stage 0': ['red', 'blue', 'green'], 'Stage 1': ['red', 'red', 'green'], \n",
    "        'Stage 2': ['red']*3}"
   ]
  },
  {
   "cell_type": "code",
   "execution_count": 48,
   "metadata": {},
   "outputs": [
    {
     "data": {
      "text/plain": [
       "array([[0.25, 0.7 ],\n",
       "       [0.3 , 0.8 ],\n",
       "       [0.7 , 0.6 ]])"
      ]
     },
     "execution_count": 48,
     "metadata": {},
     "output_type": "execute_result"
    }
   ],
   "source": [
    "X"
   ]
  },
  {
   "cell_type": "code",
   "execution_count": 49,
   "metadata": {},
   "outputs": [],
   "source": [
    "from scipy.spatial.distance import pdist, squareform"
   ]
  },
  {
   "cell_type": "code",
   "execution_count": 50,
   "metadata": {},
   "outputs": [
    {
     "data": {
      "text/plain": [
       "array([0.1118034 , 0.46097722, 0.4472136 ])"
      ]
     },
     "execution_count": 50,
     "metadata": {},
     "output_type": "execute_result"
    }
   ],
   "source": [
    "pdist(X)"
   ]
  },
  {
   "cell_type": "code",
   "execution_count": 51,
   "metadata": {},
   "outputs": [
    {
     "data": {
      "text/plain": [
       "array([[0.        , 0.1118034 , 0.46097722],\n",
       "       [0.1118034 , 0.        , 0.4472136 ],\n",
       "       [0.46097722, 0.4472136 , 0.        ]])"
      ]
     },
     "execution_count": 51,
     "metadata": {},
     "output_type": "execute_result"
    }
   ],
   "source": [
    "squareform(pdist(X))"
   ]
  },
  {
   "cell_type": "code",
   "execution_count": 52,
   "metadata": {
    "tags": []
   },
   "outputs": [
    {
     "data": {
      "image/png": "[encoded data removed]",
      "text/plain": [
       "<Figure size 1200x400 with 3 Axes>"
      ]
     },
     "metadata": {},
     "output_type": "display_data"
    }
   ],
   "source": [
    "plt.figure(figsize=(12,4))\n",
    "for x,y in enumerate(fc_dict.items()):\n",
    "    plt.subplot(1,3,x+1)\n",
    "    plt.scatter(X[:,0], X[:,1], facecolor=y[1]);\n",
    "    plt.ylim(0.2,1); plt.xlim(0,1)\n",
    "    #plt.grid(); \n",
    "    plt.title(y[0])"
   ]
  },
  {
   "cell_type": "markdown",
   "metadata": {},
   "source": [
    "As we can see the number of clusters changed from 3 to 2 and then to 1. Here is how we can visualise the hierarchy:"
   ]
  },
  {
   "cell_type": "code",
   "execution_count": 53,
   "metadata": {},
   "outputs": [
    {
     "data": {
      "image/png": "[encoded data removed]",
      "text/plain": [
       "<Figure size 640x480 with 1 Axes>"
      ]
     },
     "metadata": {},
     "output_type": "display_data"
    }
   ],
   "source": [
    "lm0 = hierarchy.linkage(X)\n",
    "hierarchy.dendrogram(lm0, p=2)\n",
    "plt.title('A Dendrogram');"
   ]
  },
  {
   "cell_type": "code",
   "execution_count": 54,
   "metadata": {},
   "outputs": [
    {
     "data": {
      "text/plain": [
       "array([[0.       , 1.       , 0.1118034, 2.       ],\n",
       "       [2.       , 3.       , 0.4472136, 3.       ]])"
      ]
     },
     "execution_count": 54,
     "metadata": {},
     "output_type": "execute_result"
    }
   ],
   "source": [
    "lm0"
   ]
  },
  {
   "cell_type": "markdown",
   "metadata": {},
   "source": [
    "The dendrogram shows that points with index 0 and 1 (the closest two points) merge at a small vertical distance (height of orange lines), but the group containing them merges with point 2 at a much higher vertical distance (blue line on the left). This shows that points 0 and 1 are less dissimilar to one another than they are (as a group) to point 2. In other words, the *height of each node is proportional to the value of the intergroup dissimilarity between its two child nodes*."
   ]
  },
  {
   "cell_type": "markdown",
   "metadata": {},
   "source": [
    "### Back to CDNOW Customers\n",
    "\n",
    "Now that we know a technique for segmenting data, let us apply it to our customers. Before we do so, we shall scale the dataset so that each of the three columns R,F and M has 0 mean and variance 1. This prevents a particular column from dominating the results because it is orders of magnitude larger than the others. We shall carry out this scaling by subtracting the column mean and then dividing by the column standard deviation for each observation."
   ]
  },
  {
   "cell_type": "code",
   "execution_count": 55,
   "metadata": {},
   "outputs": [
    {
     "data": {
      "text/html": [
       "<div>\n",
       "<style scoped>\n",
       "    .dataframe tbody tr th:only-of-type {\n",
       "        vertical-align: middle;\n",
       "    }\n",
       "\n",
       "    .dataframe tbody tr th {\n",
       "        vertical-align: top;\n",
       "    }\n",
       "\n",
       "    .dataframe thead th {\n",
       "        text-align: right;\n",
       "    }\n",
       "</style>\n",
       "<table border=\"1\" class=\"dataframe\">\n",
       "  <thead>\n",
       "    <tr style=\"text-align: right;\">\n",
       "      <th></th>\n",
       "      <th>r</th>\n",
       "      <th>f</th>\n",
       "      <th>m</th>\n",
       "    </tr>\n",
       "    <tr>\n",
       "      <th>cid</th>\n",
       "      <th></th>\n",
       "      <th></th>\n",
       "      <th></th>\n",
       "    </tr>\n",
       "  </thead>\n",
       "  <tbody>\n",
       "    <tr>\n",
       "      <th>1</th>\n",
       "      <td>-77</td>\n",
       "      <td>1</td>\n",
       "      <td>11.77</td>\n",
       "    </tr>\n",
       "    <tr>\n",
       "      <th>2</th>\n",
       "      <td>-76</td>\n",
       "      <td>1</td>\n",
       "      <td>89.00</td>\n",
       "    </tr>\n",
       "    <tr>\n",
       "      <th>3</th>\n",
       "      <td>-4</td>\n",
       "      <td>6</td>\n",
       "      <td>156.46</td>\n",
       "    </tr>\n",
       "    <tr>\n",
       "      <th>4</th>\n",
       "      <td>-28</td>\n",
       "      <td>4</td>\n",
       "      <td>100.50</td>\n",
       "    </tr>\n",
       "    <tr>\n",
       "      <th>5</th>\n",
       "      <td>-25</td>\n",
       "      <td>11</td>\n",
       "      <td>385.61</td>\n",
       "    </tr>\n",
       "  </tbody>\n",
       "</table>\n",
       "</div>"
      ],
      "text/plain": [
       "      r   f       m\n",
       "cid                \n",
       "1   -77   1   11.77\n",
       "2   -76   1   89.00\n",
       "3    -4   6  156.46\n",
       "4   -28   4  100.50\n",
       "5   -25  11  385.61"
      ]
     },
     "execution_count": 55,
     "metadata": {},
     "output_type": "execute_result"
    }
   ],
   "source": [
    "cd3.head()"
   ]
  },
  {
   "cell_type": "code",
   "execution_count": 56,
   "metadata": {},
   "outputs": [],
   "source": [
    "X = cd3.to_numpy()\n",
    "X_scaled = ((X - X.mean(axis=0))/X.std(axis=0))"
   ]
  },
  {
   "cell_type": "code",
   "execution_count": 57,
   "metadata": {},
   "outputs": [],
   "source": [
    "lm1 = hierarchy.linkage(X_scaled, method='ward')"
   ]
  },
  {
   "cell_type": "code",
   "execution_count": 58,
   "metadata": {},
   "outputs": [
    {
     "data": {
      "text/plain": [
       "array([[0.00000000e+00, 1.38000000e+02, 0.00000000e+00, 2.00000000e+00],\n",
       "       [5.00000000e+00, 5.70000000e+01, 0.00000000e+00, 2.00000000e+00],\n",
       "       [1.30000000e+01, 6.16000000e+02, 0.00000000e+00, 2.00000000e+00],\n",
       "       ...,\n",
       "       [4.71320000e+04, 4.71330000e+04, 1.11269108e+02, 5.21000000e+02],\n",
       "       [4.71350000e+04, 4.71360000e+04, 1.74074446e+02, 8.99000000e+03],\n",
       "       [4.71260000e+04, 4.71370000e+04, 2.44966385e+02, 2.35700000e+04]])"
      ]
     },
     "execution_count": 58,
     "metadata": {},
     "output_type": "execute_result"
    }
   ],
   "source": [
    "lm1"
   ]
  },
  {
   "cell_type": "code",
   "execution_count": 59,
   "metadata": {
    "tags": []
   },
   "outputs": [
    {
     "data": {
      "image/png": "[encoded data removed]",
      "text/plain": [
       "<Figure size 1200x600 with 1 Axes>"
      ]
     },
     "metadata": {},
     "output_type": "display_data"
    }
   ],
   "source": [
    "plt.figure(figsize=(12,6))\n",
    "hierarchy.dendrogram(lm1, p=3, truncate_mode='level');"
   ]
  },
  {
   "cell_type": "markdown",
   "metadata": {},
   "source": [
    "It seems reasonable that we can split the customers into three groups. Can we categorise these groups in some way?"
   ]
  },
  {
   "cell_type": "code",
   "execution_count": 60,
   "metadata": {},
   "outputs": [],
   "source": [
    "out = hierarchy.cut_tree(lm1, n_clusters=3).ravel()\n",
    "cd3['groups'] = out"
   ]
  },
  {
   "cell_type": "code",
   "execution_count": 61,
   "metadata": {
    "tags": []
   },
   "outputs": [
    {
     "data": {
      "text/html": [
       "<div>\n",
       "<style scoped>\n",
       "    .dataframe tbody tr th:only-of-type {\n",
       "        vertical-align: middle;\n",
       "    }\n",
       "\n",
       "    .dataframe tbody tr th {\n",
       "        vertical-align: top;\n",
       "    }\n",
       "\n",
       "    .dataframe thead tr th {\n",
       "        text-align: left;\n",
       "    }\n",
       "\n",
       "    .dataframe thead tr:last-of-type th {\n",
       "        text-align: right;\n",
       "    }\n",
       "</style>\n",
       "<table border=\"1\" class=\"dataframe\">\n",
       "  <thead>\n",
       "    <tr>\n",
       "      <th></th>\n",
       "      <th colspan=\"2\" halign=\"left\">r</th>\n",
       "      <th colspan=\"2\" halign=\"left\">f</th>\n",
       "      <th colspan=\"2\" halign=\"left\">m</th>\n",
       "    </tr>\n",
       "    <tr>\n",
       "      <th></th>\n",
       "      <th>median</th>\n",
       "      <th>&lt;lambda_0&gt;</th>\n",
       "      <th>median</th>\n",
       "      <th>&lt;lambda_0&gt;</th>\n",
       "      <th>median</th>\n",
       "      <th>&lt;lambda_0&gt;</th>\n",
       "    </tr>\n",
       "    <tr>\n",
       "      <th>groups</th>\n",
       "      <th></th>\n",
       "      <th></th>\n",
       "      <th></th>\n",
       "      <th></th>\n",
       "      <th></th>\n",
       "      <th></th>\n",
       "    </tr>\n",
       "  </thead>\n",
       "  <tbody>\n",
       "    <tr>\n",
       "      <th>0</th>\n",
       "      <td>-71.0</td>\n",
       "      <td>6.0</td>\n",
       "      <td>1.0</td>\n",
       "      <td>0.0</td>\n",
       "      <td>26.10</td>\n",
       "      <td>30.21</td>\n",
       "    </tr>\n",
       "    <tr>\n",
       "      <th>1</th>\n",
       "      <td>-20.0</td>\n",
       "      <td>29.0</td>\n",
       "      <td>4.0</td>\n",
       "      <td>4.0</td>\n",
       "      <td>118.92</td>\n",
       "      <td>154.62</td>\n",
       "    </tr>\n",
       "    <tr>\n",
       "      <th>2</th>\n",
       "      <td>-3.0</td>\n",
       "      <td>7.0</td>\n",
       "      <td>16.0</td>\n",
       "      <td>7.0</td>\n",
       "      <td>817.17</td>\n",
       "      <td>613.08</td>\n",
       "    </tr>\n",
       "  </tbody>\n",
       "</table>\n",
       "</div>"
      ],
      "text/plain": [
       "            r                 f                  m           \n",
       "       median <lambda_0> median <lambda_0>  median <lambda_0>\n",
       "groups                                                       \n",
       "0       -71.0        6.0    1.0        0.0   26.10      30.21\n",
       "1       -20.0       29.0    4.0        4.0  118.92     154.62\n",
       "2        -3.0        7.0   16.0        7.0  817.17     613.08"
      ]
     },
     "execution_count": 61,
     "metadata": {},
     "output_type": "execute_result"
    }
   ],
   "source": [
    "cd3.groupby('groups').agg([np.median, lambda x: np.quantile(x, .75) - np.quantile(x, .25)])\n",
    "# cd3.groupby('groups').describe()"
   ]
  },
  {
   "cell_type": "code",
   "execution_count": 62,
   "metadata": {},
   "outputs": [
    {
     "data": {
      "text/plain": [
       "0    14580\n",
       "1     8469\n",
       "2      521\n",
       "Name: groups, dtype: int64"
      ]
     },
     "execution_count": 62,
     "metadata": {},
     "output_type": "execute_result"
    }
   ],
   "source": [
    "cd3.groups.value_counts()"
   ]
  },
  {
   "cell_type": "code",
   "execution_count": 63,
   "metadata": {},
   "outputs": [
    {
     "data": {
      "image/png": "[encoded data removed]",
      "text/plain": [
       "<Figure size 640x480 with 1 Axes>"
      ]
     },
     "metadata": {},
     "output_type": "display_data"
    }
   ],
   "source": [
    "cd3.boxplot('m', by=\"groups\");"
   ]
  },
  {
   "cell_type": "markdown",
   "metadata": {},
   "source": [
    "### Determining the optimal number of clusters\n",
    "\n",
    "We used 3 clusters, but can we come up with a more formal method of determining the optimal number of clusters?\n",
    "\n",
    "The Silhouette coefficient summarises the within similarity to the between similarity using the following formula:\n",
    "\n",
    "\\begin{equation*}\n",
    "S = \\frac{b-a}{\\max(a,b)}\n",
    "\\end{equation*}\n",
    "\n",
    "where $a$ is the average distance between an observation and all other observations in the same cluster and $b$ is the average distance between an observation and all other observations in the *next nearest cluster*. This coefficient takes values between -1 and 1, with values closer to 1 indicating a more optimal clustering."
   ]
  },
  {
   "cell_type": "code",
   "execution_count": 64,
   "metadata": {},
   "outputs": [
    {
     "name": "stdout",
     "output_type": "stream",
     "text": [
      "Computing groupings for k=2\n",
      "Computing score for k=2\n",
      "Computing groupings for k=3\n",
      "Computing score for k=3\n",
      "Computing groupings for k=4\n",
      "Computing score for k=4\n",
      "Computing groupings for k=5\n",
      "Computing score for k=5\n",
      "Computing groupings for k=6\n",
      "Computing score for k=6\n"
     ]
    },
    {
     "data": {
      "text/plain": [
       "[0.6101493531750831,\n",
       " 0.6400746375538853,\n",
       " 0.6401818881842296,\n",
       " 0.621210571182339,\n",
       " 0.583675324907431]"
      ]
     },
     "execution_count": 64,
     "metadata": {},
     "output_type": "execute_result"
    }
   ],
   "source": [
    "clust.compute_silhouette_scores(lm1, X_scaled, [2,3,4,5,6])"
   ]
  },
  {
   "cell_type": "markdown",
   "metadata": {},
   "source": [
    "---\n",
    "<a id='mba'></a>\n",
    "## Market Basket Analysis\n",
    "<a href=#top>(back to top)</a>\n",
    "\n",
    "Association rules analysis is a very popular tool for mining commercial databases. It is applicable when you have transaction-level data. In other words, the observations in your data consist of sales transactions - items purchased by customers at a physical or online store. The goal of an association rules analysis is to identify items that are frequently bought together. This information can be very useful in \n",
    "\n",
    "  * stocking shelves at the physical store, or even at the warehouse,\n",
    "  * cross-marketing in sales promotions, and \n",
    "  * designing catalogues for mail-in promotions or advertisements.\n",
    "  \n",
    "### Apriori Algorithm\n",
    "\n",
    "Customer databases can be very huge. It is computationally infeasible to compute the proportion of all $2^N$ types of items. The apriori algorithm gets around this using this clever trick:\n",
    "\n",
    "> If an itemset is infrequent, any itemset that contains it is also infrequent.\n",
    "\n",
    "For instance, if I know that `{caviar, eggs}` are bought very rarely, then `{caviar, eggs, wine}` will be even more rarely purchased."
   ]
  },
  {
   "cell_type": "markdown",
   "metadata": {},
   "source": [
    "### What are Association Rules?\n",
    "\n",
    "Let $X$ and $Y$ be itemsets. They denote possible \"baskets\" of items that could be purchased together. Suppose that there have been $N$ transactions in a database. Then we define the support of an itemset to be \n",
    "\n",
    "\\begin{equation*}\n",
    "\\text{Support}(X) = \\frac{\\text{no. of transactions that contain $X$}}{N}\n",
    "\\end{equation*}\n",
    "\n",
    "The goal of this section is to identify *interesting* rules of the form:\n",
    "\\begin{equation*}\n",
    "X \\Rightarrow Y\n",
    "\\end{equation*}\n",
    "which we interpret as: if a customer purchases itemset $X$ (the *antecedent*), then he will purchase itemset $Y$ (the *consequent*). Rules are not certainties - that is why we need to compute several metrics on any postulated rule before we can act on it."
   ]
  },
  {
   "cell_type": "markdown",
   "metadata": {},
   "source": [
    "### Definitions\n",
    "\n",
    "1. The support of a rule $X \\Rightarrow Y$ is defined to be \n",
    "\n",
    "\\begin{equation*}\n",
    "\\text{Support}(X \\Rightarrow Y) = \\frac{\\text{no. of transactions that contain $X$ and $Y$}}{N} = P(X \\cup Y)\n",
    "\\end{equation*}\n",
    "\n",
    "2. The confidence of a rule $X \\Rightarrow Y$ is defined to be \n",
    "\n",
    "\\begin{equation*}\n",
    "\\text{Confidence}(X \\Rightarrow Y) = \\frac{\\text{no. of transactions that contain $X$ and $Y$}}{\\text{no. of transactions that contain $X$}} = P( Y | X)\n",
    "\\end{equation*}\n",
    "\n",
    "The confidence of a rule will be a value between 0 and 1. It gives us an indication of the chance that a customer will add on to his current purchase.\n",
    "\n",
    "3. The lift of a rule $X \\Rightarrow Y$ is defined to be \n",
    "\n",
    "\\begin{equation*}\n",
    "\\text{Lift}(X \\Rightarrow Y) = \\frac{\\text{Confidence}(X \\Rightarrow Y)}{\\text{Support}(Y)} = P( Y | X) / P(Y)\n",
    "\\end{equation*}\n",
    "\n",
    "Note that the lift of $X \\Rightarrow Y$ is the same as the lift of $Y \\Rightarrow X$. The lift of a rule is a value between 0 and $\\infty$. A value of 1 denotes that there is no value in promoting $Y$ to a customer who intends to purchase $X$. Values greater than 1 indicate a useful rule for cross-promotion.\n",
    "\n",
    "4. The leverage of a rule $X \\Rightarrow Y$ is defined to be \n",
    "\n",
    "\\begin{equation*}\n",
    "\\text{Leverage}(X \\Rightarrow Y) = \\text{Support}(X \\Rightarrow Y) - \\text{Support}(Y)\\text{Support}(X)\n",
    "\\end{equation*}\n",
    "\n",
    "This will be a value between -1 and 1. It gives an indication of association between the products. If leverage is positive, it means that customers were more likely to buy these two itemsets together, compared to the chance of buying them if these two itemsets were independent.\n",
    "\n",
    "5. The conviction of a rule $X \\Rightarrow Y$ is defined to be \n",
    "\n",
    "\\begin{equation*}\n",
    "\\text{Conviction}(X \\Rightarrow Y) = \\frac{1 - \\text{Support}(Y)}{1 - \\text{Confidence}(X \\Rightarrow Y)} =\n",
    "\\frac{P(Y^c)}{P(Y^c | X)}\n",
    "\\end{equation*}\n",
    "\n",
    "A value more than 1 indicates that $Y$ is more likely bought with $X$ than without. Conviction was conceived of to replace lift, which is non-directional."
   ]
  },
  {
   "cell_type": "markdown",
   "metadata": {},
   "source": [
    "Let's consider a simple example before applying these ideas to a larger dataset. Consider the following table of transactions:\n",
    "\n",
    "| transaction | itemset                 |\n",
    "|-------------|-------------------------|\n",
    "| 1           | butter, jelly           |\n",
    "| 2           | butter, jelly           |\n",
    "| 3           | p.butter, butter        |\n",
    "| 4           | p.butter, butter, jelly |\n",
    "| 5           | p.butter                |\n",
    "\n",
    "Now let us focus on a particular rule: $\\text{butter} \\Rightarrow \\text{jelly}$.\n",
    "\n",
    "1. The support of the rule is 3/5.\n",
    "2. The confidence of the rule is 3/4.\n",
    "3. The lift of the rule is .75/(3/5) = 1.25\n",
    "4. The leverage of the rule is .6 - .8(.6) = .12\n",
    "5. The conviction of the rule is .4/(1-.75) = 1.6"
   ]
  },
  {
   "cell_type": "markdown",
   "metadata": {},
   "source": [
    "The dataset that we shall consider next consists of gifts purchased from an online retailer. The original dataset was obtained here: https://archive.ics.uci.edu/ml/datasets/Online+Retail+II, but the version we have here is heavily cleaned. Initially, there were 3843 different types of items. They were re-categorised, with those that occurred too often being dropped. The first column is an invoice number, indicating which items were bought together."
   ]
  },
  {
   "cell_type": "code",
   "execution_count": 65,
   "metadata": {},
   "outputs": [
    {
     "ename": "ModuleNotFoundError",
     "evalue": "No module named 'mlxtend'",
     "output_type": "error",
     "traceback": [
      "\u001b[1;31m---------------------------------------------------------------------------\u001b[0m",
      "\u001b[1;31mModuleNotFoundError\u001b[0m                       Traceback (most recent call last)",
      "Cell \u001b[1;32mIn[65], line 1\u001b[0m\n\u001b[1;32m----> 1\u001b[0m \u001b[38;5;28;01mfrom\u001b[39;00m \u001b[38;5;21;01mmlxtend\u001b[39;00m\u001b[38;5;21;01m.\u001b[39;00m\u001b[38;5;21;01mpreprocessing\u001b[39;00m \u001b[38;5;28;01mimport\u001b[39;00m TransactionEncoder\n\u001b[0;32m      2\u001b[0m \u001b[38;5;28;01mfrom\u001b[39;00m \u001b[38;5;21;01mmlxtend\u001b[39;00m\u001b[38;5;21;01m.\u001b[39;00m\u001b[38;5;21;01mfrequent_patterns\u001b[39;00m \u001b[38;5;28;01mimport\u001b[39;00m apriori, association_rules\n",
      "\u001b[1;31mModuleNotFoundError\u001b[0m: No module named 'mlxtend'"
     ]
    }
   ],
   "source": [
    "from mlxtend.preprocessing import TransactionEncoder\n",
    "from mlxtend.frequent_patterns import apriori, association_rules"
   ]
  },
  {
   "cell_type": "code",
   "execution_count": null,
   "metadata": {},
   "outputs": [],
   "source": [
    "all_trans2 = pd.read_csv('../data/online_gift_trans.csv')"
   ]
  },
  {
   "cell_type": "code",
   "execution_count": null,
   "metadata": {},
   "outputs": [],
   "source": [
    "all_trans2.head(n=10)"
   ]
  },
  {
   "cell_type": "code",
   "execution_count": null,
   "metadata": {},
   "outputs": [],
   "source": [
    "all_trans2.desc2.unique()"
   ]
  },
  {
   "cell_type": "code",
   "execution_count": null,
   "metadata": {},
   "outputs": [],
   "source": [
    "trans_list = all_trans2.groupby('InvoiceNo').apply(lambda x: x.desc2.to_list()).to_list()"
   ]
  },
  {
   "cell_type": "code",
   "execution_count": null,
   "metadata": {},
   "outputs": [],
   "source": [
    "trans_list[0:10]"
   ]
  },
  {
   "cell_type": "code",
   "execution_count": null,
   "metadata": {},
   "outputs": [],
   "source": [
    "te = TransactionEncoder()\n",
    "te_ary = te.fit(trans_list).transform(trans_list, sparse=True)\n",
    "df2 = pd.DataFrame.sparse.from_spmatrix(te_ary, columns=te.columns_)"
   ]
  },
  {
   "cell_type": "code",
   "execution_count": null,
   "metadata": {},
   "outputs": [],
   "source": [
    "df2.head()"
   ]
  },
  {
   "cell_type": "markdown",
   "metadata": {},
   "source": [
    "The input to the apriori algorithm requires a boolean matrix with one row for each transaction (invoice), and one column for each item. As we can see, we have 34 categories of items now."
   ]
  },
  {
   "cell_type": "code",
   "execution_count": null,
   "metadata": {},
   "outputs": [],
   "source": [
    "ap_out = apriori(df2, min_support=0.01, use_colnames=True, max_len=4, verbose=True)"
   ]
  },
  {
   "cell_type": "markdown",
   "metadata": {},
   "source": [
    "We can inspect the frequent itemsets since it is just a pandas DataFrame."
   ]
  },
  {
   "cell_type": "code",
   "execution_count": null,
   "metadata": {},
   "outputs": [],
   "source": [
    "# ap_out.head()\n",
    "ap_out[ap_out.itemsets <= {'BUNTING', 'CLOCKS'}]\n",
    "#ap_out[ap_out['itemsets'] >= {'LIGHTS', 'TOYS'}]"
   ]
  },
  {
   "cell_type": "code",
   "execution_count": null,
   "metadata": {},
   "outputs": [],
   "source": [
    "ap_out.sort_values('support', ascending=False).head()"
   ]
  },
  {
   "cell_type": "markdown",
   "metadata": {},
   "source": [
    "Now, we proceed to generate association rules with a minimum confidence of 0.5, and try to answer a few questions of interest:\n",
    "\n",
    "1. What is an interesting rule that I can use?\n",
    "2. I have an excess of notebooks - what can I pair them with to sell them off?\n",
    "3. A customer has tissues and towels in his shopping cart - what should I recommend to him?"
   ]
  },
  {
   "cell_type": "code",
   "execution_count": null,
   "metadata": {},
   "outputs": [],
   "source": [
    "ar = association_rules(ap_out, metric='confidence', min_threshold=0.5)"
   ]
  },
  {
   "cell_type": "code",
   "execution_count": null,
   "metadata": {},
   "outputs": [],
   "source": [
    "ar[(ar.confidence > 0.7) & (ar.antecedents.apply(len) <= 2)].sort_values(by='lift', ascending =False)"
   ]
  },
  {
   "cell_type": "markdown",
   "metadata": {},
   "source": [
    "Regarding question 1, it looks like I can place or stock SIGNS close to key chains, bathroom accessories and wallets since the lift, leverage and conviction are all high."
   ]
  },
  {
   "cell_type": "code",
   "execution_count": null,
   "metadata": {},
   "outputs": [],
   "source": [
    "ar[(ar.consequents == {'NOTEBOOKS'}) & (ar.antecedents.apply(len) <= 2)].sort_values(by='conviction', ascending=False).head()"
   ]
  },
  {
   "cell_type": "markdown",
   "metadata": {},
   "source": [
    "The support for key chains and stationery is the highest in the above table, and the conviction is high. So I might consider pairing notebooks with those items. I could also consider pairing it with magnets and baskets."
   ]
  },
  {
   "cell_type": "code",
   "execution_count": null,
   "metadata": {},
   "outputs": [],
   "source": [
    "ar[ar.antecedents == {'TOWELS', 'TISSUES'}]"
   ]
  },
  {
   "cell_type": "markdown",
   "metadata": {},
   "source": [
    "I should recommend stationery to him."
   ]
  },
  {
   "cell_type": "markdown",
   "metadata": {},
   "source": [
    "### Some caveats when using Market Basket Analysis\n",
    "\n",
    "Market basket analysis is taught in many books, and there are many papers on the algorithms to derive the association rules from huge databases. However, you will find comparatively less papers and articles on the success from using Market Basket Analysis (an exception is the Target story).\n",
    "\n",
    "There could be a reason for this. Suppose that a store finds that two brands of soft drink (A and B) are often bought together. Hence, they decide to run a promotion on brand A, hoping that it would trigger an increase in the sales of brand B. Instead, the sales of brand B dropped dramatically!!?\n",
    "\n",
    "This happens when the two products have a substitute relationship instead of a complementary one. When customers see a price drop in one of them, they switch to it, at the expense of the one whose price did not drop.\n",
    "\n",
    "What can we do to avoid situations like this?"
   ]
  },
  {
   "cell_type": "markdown",
   "metadata": {},
   "source": [
    "<a id='ref'></a>\n",
    "### References and Summary\n",
    "<a href=#top>(back to top)</a>\n",
    "\n",
    "1. [CDNOW dataset download](https://www.brucehardie.com/datasets/) (also available on Canvas)\n",
    "2. [An Introduction to Statistical Learning](https://hastie.su.domains/ISLR2/ISLRv2_website.pdf) Chapter 12 of this book covers hierarchical clustering in more detail, along with other clustering techniques. \n",
    "3. *Drilling down: turning customer data into profits with a spreadsheet*, by Jim Novo. This book covers several methods in customer analytics, and shows you how to use them on a spreadsheet. It is available at our library."
   ]
  }
 ],
 "metadata": {
  "kernelspec": {
   "display_name": "Python 3 (ipykernel)",
   "language": "python",
   "name": "python3"
  },
  "language_info": {
   "codemirror_mode": {
    "name": "ipython",
    "version": 3
   },
   "file_extension": ".py",
   "mimetype": "text/x-python",
   "name": "python",
   "nbconvert_exporter": "python",
   "pygments_lexer": "ipython3",
   "version": "3.11.4"
  },
  "toc": {
   "base_numbering": 1,
   "nav_menu": {},
   "number_sections": true,
   "sideBar": true,
   "skip_h1_title": false,
   "title_cell": "Table of Contents",
   "title_sidebar": "Contents",
   "toc_cell": false,
   "toc_position": {},
   "toc_section_display": true,
   "toc_window_display": false
  }
 },
 "nbformat": 4,
 "nbformat_minor": 4
}
