{
 "cells": [
  {
   "cell_type": "markdown",
   "metadata": {},
   "source": [
    "# Instructions\n",
    "\n",
    "1. This assignment is worth 5% of the final grade.\n",
    "2. Insert cells (code or markdown, as appropriate) below each question and fill in your answers there.\n",
    "2. You are required to work on this individually. Any form of plagiarism will result in 0.\n",
    "3. Please submit your notebook file (name it ``IND5003_A1_<Your_Name>.ipynb``) through Canvas before **17th Sep 2023 23:59hrs**."
   ]
  },
  {
   "cell_type": "markdown",
   "metadata": {},
   "source": [
    "# Question 1\n",
    "\n",
    "The file `resale_flat_prices.csv` contains resale flat prices in Singapore from January 2017 onwards. The file `town_type_region.xlsx` contains the classification of each town as *mature* or *non-mature* and each town's geographical region (*north*, *north-east*, *east*, *west*, or *central*). Use these two files to answer the following questions:\n",
    "\n",
    "1. In the period January 2022 to June 2022, was the mean resale price **per square metre per year of remaining lease** of 4 ROOM flats the same for all geographical regions?\n",
    "2. In the period July 2022 to December 2022, was there any difference in the distribution of geographical regions for each resale flat type? (Please **omit** 1 ROOM and MULTI-GENERATION flats from this analysis.)\n",
    "\n",
    "It is up to you to choose the appropriate hypothesis test, and to perform the five steps for each question."
   ]
  },
  {
   "cell_type": "markdown",
   "metadata": {},
   "source": [
    "### 1.\n",
    "#### Step 1\n"
   ]
  },
  {
   "cell_type": "code",
   "execution_count": 4,
   "metadata": {},
   "outputs": [],
   "source": [
    "import pandas as pd\n",
    "import numpy as np\n",
    "from scipy import stats\n",
    "\n",
    "# read files\n",
    "flat_price = pd.read_csv('resale_flat_prices.csv')\n",
    "town_type = pd.read_excel('town_type_region.xlsx')"
   ]
  },
  {
   "cell_type": "markdown",
   "metadata": {},
   "source": [
    "#### Step 2: Null and Alternative Hypotheses\n",
    "##### Null Hypothesis: mean resale price per square metre per year of remaining lease of 4 ROOM flats is the same for all geographical regions\n",
    "##### Alternative Hypotheses: mean resale price per square metre per year of remaining lease of 4 ROOM flats is not the same for all geographical regions\n"
   ]
  },
  {
   "cell_type": "markdown",
   "metadata": {},
   "source": [
    "#### Steps 3 & 4: Compute test statistic and $p$-value"
   ]
  },
  {
   "cell_type": "code",
   "execution_count": 5,
   "metadata": {},
   "outputs": [],
   "source": [
    "# get January 2022 to June 2022, 4 ROOM flats\n",
    "jan2June4Room = flat_price[(flat_price['month'] >= '2022-01') & (flat_price['month'] <= '2022-06') & (flat_price['flat_type'] == '4 ROOM')]\n",
    "\n",
    "# merge two lists\n",
    "resale_price = jan2June4Room.merge(town_type, how = 'left', left_on = 'town', right_on = 'town')\n",
    "\n",
    "# remaining_lease year to int\n",
    "resale_price['remaining_lease_years'] = resale_price['remaining_lease'].str.extract('(\\d+)').astype(int)\n",
    "\n",
    "# calculate resale price per square metre per year of remaining lease\n",
    "resale_price['resale_price_per_sq_per_y'] = (resale_price['resale_price'] / resale_price['floor_area_sqm']) / resale_price['remaining_lease_years']\n",
    "\n",
    "# calculate mean groupby each region\n",
    "average_prices = resale_price.groupby('region')['resale_price_per_sq_per_y'].mean()"
   ]
  },
  {
   "cell_type": "code",
   "execution_count": 6,
   "metadata": {},
   "outputs": [
    {
     "name": "stdout",
     "output_type": "stream",
     "text": [
      "F-statistic: 1743.465746542492\n",
      "F-P-value: 0.0\n"
     ]
    }
   ],
   "source": [
    "# ANOVA test\n",
    "f_statistic, f_p_value = stats.f_oneway(*[group['resale_price_per_sq_per_y'] for name, group in resale_price.groupby('region')])\n",
    "\n",
    "print(\"F-statistic:\", f_statistic)\n",
    "print(\"F-P-value:\", f_p_value)"
   ]
  },
  {
   "cell_type": "code",
   "execution_count": 7,
   "metadata": {},
   "outputs": [
    {
     "name": "stdout",
     "output_type": "stream",
     "text": [
      "H-statistic: 2577.6400758012273\n",
      "H-P-value: 0.0\n"
     ]
    }
   ],
   "source": [
    "# kruskal test\n",
    "h_statistic, h_p_value = stats.kruskal(*[group['resale_price_per_sq_per_y'] for name, group in resale_price.groupby('region')])\n",
    "print(\"H-statistic:\", h_statistic)\n",
    "print(\"H-P-value:\", f_p_value)\n"
   ]
  },
  {
   "cell_type": "markdown",
   "metadata": {},
   "source": [
    "#### Step 5: Conclusion \n",
    "Draw conclution from two tests"
   ]
  },
  {
   "cell_type": "code",
   "execution_count": 8,
   "metadata": {
    "scrolled": true
   },
   "outputs": [
    {
     "name": "stdout",
     "output_type": "stream",
     "text": [
      "Reject null hypothesis\n",
      "Mean resale price is not the same for all regions\n"
     ]
    }
   ],
   "source": [
    "alpha = 0.05\n",
    "if (f_p_value < alpha) and (h_p_value < alpha):\n",
    "    print('Reject null hypothesis')\n",
    "    print('Mean resale price is not the same for all regions')\n",
    "else:\n",
    "    print('No sufficient evident to reject null hypothesis')\n",
    "    print('Mean resale price is the same for all regions')"
   ]
  },
  {
   "cell_type": "markdown",
   "metadata": {},
   "source": [
    "### 2.\n",
    "#### Step 1\n"
   ]
  },
  {
   "cell_type": "markdown",
   "metadata": {},
   "source": [
    "#### Step 2: Null and Alternative Hypotheses\n",
    "##### Null Hypothesis: flat type and region are indepentent\n",
    "##### Alternative Hypotheses: flat type and region are not indepentent"
   ]
  },
  {
   "cell_type": "markdown",
   "metadata": {},
   "source": [
    "#### Steps 3 & 4: Compute test statistic and $p$-value"
   ]
  },
  {
   "cell_type": "code",
   "execution_count": 9,
   "metadata": {},
   "outputs": [],
   "source": [
    "# July 2022 to December 2022, without 1 ROOM and MULTI-GENERATION flats\n",
    "jul2Dec = flat_price[(flat_price['month'] >= '2022-07') & (flat_price['month'] <= '2022-12') & (flat_price['flat_type'] != '1 ROOM') & (flat_price['flat_type'] != 'MULTI-GENERATION')]\n",
    "# merge two lists\n",
    "jul2Dec_resale_price = jul2Dec.merge(town_type, how = 'left', left_on = 'town', right_on = 'town')\n",
    "\n",
    "# Contingency Tables\n",
    "contingency_table = pd.crosstab(index=jul2Dec_resale_price['region'], columns=jul2Dec_resale_price['flat_type'])\n",
    "chi2_statistic, p_value, dof, expected = stats.chi2_contingency(contingency_table)"
   ]
  },
  {
   "cell_type": "code",
   "execution_count": 10,
   "metadata": {
    "scrolled": true
   },
   "outputs": [
    {
     "name": "stdout",
     "output_type": "stream",
     "text": [
      "chi2_statistic: 734.1655738392807\n",
      "p_value: 6.874279549042278e-146\n",
      "degree of freedom 16\n",
      "expected frequencies [[  48.25486726  618.26548673 1078.57168142  631.08318584  179.82477876]\n",
      " [  36.90855457  472.89085546  824.96386431  482.69469027  137.5420354 ]\n",
      " [  48.51917404  621.6519174  1084.47935103  634.53982301  180.80973451]\n",
      " [  66.54867257  852.65486726 1487.46681416  870.33185841  247.99778761]\n",
      " [  55.76873156  714.53687316 1246.51828909  729.35044248  207.82566372]]\n"
     ]
    }
   ],
   "source": [
    "# print result\n",
    "print('chi2_statistic:', chi2_statistic)\n",
    "print('p_value:', p_value)\n",
    "print('degree of freedom', dof)\n",
    "print('expected frequencies', expected)"
   ]
  },
  {
   "cell_type": "markdown",
   "metadata": {},
   "source": [
    "#### Step 5: Conclusion \n",
    "Draw conclution from the test"
   ]
  },
  {
   "cell_type": "code",
   "execution_count": 136,
   "metadata": {},
   "outputs": [
    {
     "name": "stdout",
     "output_type": "stream",
     "text": [
      "Reject null hypothesis\n",
      "flat type and region are not indepentent\n"
     ]
    }
   ],
   "source": [
    "alpha = 0.05\n",
    "if p_value < alpha:\n",
    "    print('Reject null hypothesis')\n",
    "    print('flat type and region are not indepentent')\n",
    "else:\n",
    "    print('No sufficient evident to reject null hypothesis')\n",
    "    print( 'flat type and region are indepentent')"
   ]
  },
  {
   "cell_type": "markdown",
   "metadata": {},
   "source": [
    "# Question 2\n",
    "\n",
    "The secretary problem *in its simplest form* has the following features.\n",
    "\n",
    "1. There is one secretarial position available.\n",
    "2. The number $n$ of applicants is known.\n",
    "3. The applicants are interviewed sequentially in random order, each order being equally likely.\n",
    "4. It is assumed that you can rank all the applicants from best to worst without ties. The decision to accept or reject an applicant must be based only on the relative ranks of those applicants interviewed so far.\n",
    "5. An applicant once rejected cannot later be recalled.\n",
    "6. You are very particular and will be satisfied with nothing but the very best.\n",
    "\n",
    "This basic problem has a remarkably simple solution. First, one shows that attention can be restricted to the class of rules that for some integer $r \\ge 1$ rejects the first $r - 1$ applicants, and then chooses the next applicant who is best in the relative ranking of the observed applicants. For such a rule, the probability, $p_n(r)$, of selecting the best applicant is $1/n$ for $r = 1$, and for $r > 1$,\n",
    "\\begin{equation}\n",
    "  p_n(r) = \\frac{r - 1}{n} \\sum_{i=r}^n \\frac{1}{i - 1}.\n",
    "\\end{equation}\n",
    "The optimal $r$ is the one that maximises this probability. For small values of $n$, the optimal $r$ can easily be computed. For example, when $n = 11$, the function $p_n(r)$ takes on its maximum value when $r = 5$.\n",
    "\n",
    "When $n = 11$ and using the optimal solution outlined above, use **simulation** to answer the following questions:\n",
    "\n",
    "1. What is the probability that you **could not find an acceptable applicant?**\n",
    "2. How many applicants do you expect to interview **by the time you accept an applicant?**"
   ]
  },
  {
   "cell_type": "code",
   "execution_count": 72,
   "metadata": {},
   "outputs": [],
   "source": [
    "import random"
   ]
  },
  {
   "cell_type": "code",
   "execution_count": 117,
   "metadata": {},
   "outputs": [
    {
     "name": "stdout",
     "output_type": "stream",
     "text": [
      "1. Probability of not finding an acceptable applicant: 60.0090%\n",
      "2. Expected number of interviews before accepting an applicant: 8.38\n"
     ]
    }
   ],
   "source": [
    "def probability_of_selecting_best(n, r):\n",
    "    if r == 1:\n",
    "        return 0\n",
    "    else:\n",
    "        sum = 0\n",
    "        for i in range(r, n + 1):\n",
    "            sum += 1 / (i - 1)\n",
    "        return sum * (r - 1) / n\n",
    "\n",
    "def find_best_r(n):\n",
    "    best_r = 1\n",
    "    max_probability = 0\n",
    "    for r in range(1, n + 1):\n",
    "        probability = probability_of_selecting_best(n, r)\n",
    "        if probability > max_probability:\n",
    "            max_probability = probability\n",
    "            best_r = r\n",
    "    return best_r\n",
    "\n",
    "# simulate interveiws\n",
    "def secretary_simulation(n, iterations):\n",
    "    \n",
    "    best_r = find_best_r(n)\n",
    "    interviews_unitl_find = 0\n",
    "    no_acceptable_applicant_count = 0\n",
    "    \n",
    "    for _ in range(iterations):\n",
    "\n",
    "        applicants = list(range(1, n + 1))\n",
    "        random.shuffle(applicants)\n",
    "\n",
    "    #     find highest benchmark score\n",
    "        highest_benchmark_score = 0;\n",
    "        for i in range(0, best_r - 1):\n",
    "            highest_benchmark_score = max(highest_benchmark_score, applicants[i])\n",
    "            interviews_unitl_find += 1\n",
    "            \n",
    "\n",
    "        \n",
    "        isFind = False\n",
    "        best_applicant = 0;\n",
    "        for i in range(best_r - 1, n):\n",
    "            interviews_unitl_find += 1\n",
    "\n",
    "            if highest_benchmark_score < applicants[i]:\n",
    "                isFind = True\n",
    "                best_applicant = applicants[i]\n",
    "                break\n",
    "                \n",
    "        if (not isFind) or (best_applicant != 11):\n",
    "            no_acceptable_applicant_count += 1\n",
    "\n",
    "    return no_acceptable_applicant_count / iterations, interviews_unitl_find / iterations\n",
    "\n",
    "n = 11  # number of applicants\n",
    "iterations = 100000\n",
    "no_acceptable_prob, expected_interviews = secretary_simulation(n, iterations)\n",
    "print(f\"1. Probability of not finding an acceptable applicant: {no_acceptable_prob*100:.4f}%\")\n",
    "print(f\"2. Expected number of interviews before accepting an applicant: {expected_interviews:.2f}\")"
   ]
  },
  {
   "cell_type": "code",
   "execution_count": null,
   "metadata": {},
   "outputs": [],
   "source": []
  }
 ],
 "metadata": {
  "kernelspec": {
   "display_name": "Python 3 (ipykernel)",
   "language": "python",
   "name": "python3"
  },
  "language_info": {
   "codemirror_mode": {
    "name": "ipython",
    "version": 3
   },
   "file_extension": ".py",
   "mimetype": "text/x-python",
   "name": "python",
   "nbconvert_exporter": "python",
   "pygments_lexer": "ipython3",
   "version": "3.11.4"
  }
 },
 "nbformat": 4,
 "nbformat_minor": 4
}
